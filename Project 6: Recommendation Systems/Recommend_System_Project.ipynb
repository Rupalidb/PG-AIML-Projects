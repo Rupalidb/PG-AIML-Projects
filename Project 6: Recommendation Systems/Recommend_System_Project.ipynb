{
 "cells": [
  {
   "cell_type": "markdown",
   "metadata": {
    "colab_type": "text",
    "id": "h4979Ba1hHgV"
   },
   "source": [
    "## **Project 6 - Recommendation System**\n",
    "Amazon Reviews data source. The repository has several datasets. For this case study, we are using the Electronics dataset.\n",
    "\n",
    "#### **Domain: E-Commerce**\n",
    "\n",
    "**Context:** Online E-commerce websites like Amazon, Flipkart uses different recommendation models to provide different suggestions to different users. Amazon currently uses item-to-item collaborative filtering, which scales to massive data sets and produces high-quality recommendations in real-time.\n",
    "\n",
    "#### **Attribute Information**\n",
    "\n",
    "**UserID:** Every user identified with a unique id.\n",
    "<br> **ProductID:** Every product identified with a unique id.\n",
    "<br> **Rating:** Rating of the corresponding product by the corresponding user.\n",
    "<br> **timestamp:** Time of the rating.\n",
    "\n",
    "\n",
    "#### **Objective:** Build a recommendation system to recommend products to customers based on their previous ratings for other products."
   ]
  },
  {
   "cell_type": "code",
   "execution_count": 1,
   "metadata": {
    "colab": {
     "base_uri": "https://localhost:8080/",
     "height": 122
    },
    "colab_type": "code",
    "id": "SZ_NIIrJa7BW",
    "outputId": "479b91b6-d6f9-4d87-eb52-5f1dbac2918f"
   },
   "outputs": [
    {
     "name": "stdout",
     "output_type": "stream",
     "text": [
      "Go to this URL in a browser: https://accounts.google.com/o/oauth2/auth?client_id=947318989803-6bn6qk8qdgf4n4g3pfee6491hc0brc4i.apps.googleusercontent.com&redirect_uri=urn%3aietf%3awg%3aoauth%3a2.0%3aoob&scope=email%20https%3a%2f%2fwww.googleapis.com%2fauth%2fdocs.test%20https%3a%2f%2fwww.googleapis.com%2fauth%2fdrive%20https%3a%2f%2fwww.googleapis.com%2fauth%2fdrive.photos.readonly%20https%3a%2f%2fwww.googleapis.com%2fauth%2fpeopleapi.readonly&response_type=code\n",
      "\n",
      "Enter your authorization code:\n",
      "··········\n",
      "Mounted at /content/drive\n"
     ]
    }
   ],
   "source": [
    "\n",
    "# Mounting Google Drive\n",
    "from google.colab import drive\n",
    "drive.mount('/content/drive')"
   ]
  },
  {
   "cell_type": "code",
   "execution_count": 2,
   "metadata": {
    "colab": {},
    "colab_type": "code",
    "id": "RLBQlBDNb4EL"
   },
   "outputs": [],
   "source": [
    "\n",
    "# Setting the current working directory\n",
    "import os;"
   ]
  },
  {
   "cell_type": "code",
   "execution_count": 3,
   "metadata": {
    "colab": {},
    "colab_type": "code",
    "id": "kncPfVNAb85U"
   },
   "outputs": [],
   "source": [
    " os.chdir('drive/My Drive/Great Learning/Recommendation System Project')"
   ]
  },
  {
   "cell_type": "code",
   "execution_count": 4,
   "metadata": {
    "colab": {
     "base_uri": "https://localhost:8080/",
     "height": 34
    },
    "colab_type": "code",
    "id": "-RrS9_Pcb_D4",
    "outputId": "6a17cf05-8d57-4471-8b37-9d84d8fd2fdc"
   },
   "outputs": [
    {
     "name": "stdout",
     "output_type": "stream",
     "text": [
      "dump_KNNBaseline_Item  dump_KNNBaseline_User  ratings_Electronics.csv\n"
     ]
    }
   ],
   "source": [
    "!ls '/content/drive/My Drive/Great Learning/Recommendation System Project'"
   ]
  },
  {
   "cell_type": "code",
   "execution_count": 5,
   "metadata": {
    "colab": {
     "base_uri": "https://localhost:8080/",
     "height": 275
    },
    "colab_type": "code",
    "id": "uitlTBsXcCbx",
    "outputId": "21680e0d-6047-4917-fe25-475799d1b56f"
   },
   "outputs": [
    {
     "name": "stdout",
     "output_type": "stream",
     "text": [
      "Collecting scikit-surprise\n",
      "\u001b[?25l  Downloading https://files.pythonhosted.org/packages/97/37/5d334adaf5ddd65da99fc65f6507e0e4599d092ba048f4302fe8775619e8/scikit-surprise-1.1.1.tar.gz (11.8MB)\n",
      "\u001b[K     |████████████████████████████████| 11.8MB 309kB/s \n",
      "\u001b[?25hRequirement already satisfied: joblib>=0.11 in /usr/local/lib/python3.6/dist-packages (from scikit-surprise) (0.16.0)\n",
      "Requirement already satisfied: numpy>=1.11.2 in /usr/local/lib/python3.6/dist-packages (from scikit-surprise) (1.18.5)\n",
      "Requirement already satisfied: scipy>=1.0.0 in /usr/local/lib/python3.6/dist-packages (from scikit-surprise) (1.4.1)\n",
      "Requirement already satisfied: six>=1.10.0 in /usr/local/lib/python3.6/dist-packages (from scikit-surprise) (1.15.0)\n",
      "Building wheels for collected packages: scikit-surprise\n",
      "  Building wheel for scikit-surprise (setup.py) ... \u001b[?25l\u001b[?25hdone\n",
      "  Created wheel for scikit-surprise: filename=scikit_surprise-1.1.1-cp36-cp36m-linux_x86_64.whl size=1670913 sha256=4a1c384c5326359f76c2c3dd98343b03d456264c2561fc6ef868723bf3e8debd\n",
      "  Stored in directory: /root/.cache/pip/wheels/78/9c/3d/41b419c9d2aff5b6e2b4c0fc8d25c538202834058f9ed110d0\n",
      "Successfully built scikit-surprise\n",
      "Installing collected packages: scikit-surprise\n",
      "Successfully installed scikit-surprise-1.1.1\n"
     ]
    }
   ],
   "source": [
    "!pip install scikit-surprise"
   ]
  },
  {
   "cell_type": "code",
   "execution_count": 6,
   "metadata": {
    "colab": {
     "base_uri": "https://localhost:8080/",
     "height": 71
    },
    "colab_type": "code",
    "id": "NbM6eO--cLLx",
    "outputId": "7f6bc5ae-31b4-4d22-a17a-b4c8165492c7"
   },
   "outputs": [
    {
     "name": "stderr",
     "output_type": "stream",
     "text": [
      "/usr/local/lib/python3.6/dist-packages/statsmodels/tools/_testing.py:19: FutureWarning: pandas.util.testing is deprecated. Use the functions in the public API at pandas.testing instead.\n",
      "  import pandas.util.testing as tm\n"
     ]
    }
   ],
   "source": [
    "# Imports\n",
    "import pandas as pd, numpy as np, matplotlib.pyplot as plt, seaborn as sns\n",
    "import matplotlib.style as style; style.use('fivethirtyeight')\n",
    "from sklearn.model_selection import train_test_split\n",
    "from sklearn.metrics import mean_squared_error\n",
    "from scipy.sparse.linalg import svds\n",
    "import gc\n",
    "%matplotlib inline\n",
    "\n",
    "# Surprise package for making recommendation\n",
    "from surprise import KNNBaseline, KNNBasic, KNNWithMeans, KNNWithZScore\n",
    "from surprise.model_selection import GridSearchCV, cross_validate, KFold\n",
    "from surprise import accuracy, Reader, Dataset, dump\n",
    "\n",
    "# For Sklearn NearestNeighbor based recommendation\n",
    "from sklearn.metrics import pairwise_distances, mean_squared_error\n",
    "from scipy.spatial.distance import correlation, cosine\n",
    "from sklearn.neighbors import NearestNeighbors\n",
    "from scipy.sparse import csr_matrix\n",
    "import sklearn.metrics as metrics\n",
    "from math import sqrt\n",
    "\n",
    "# Display settings\n",
    "pd.options.display.max_rows = 999\n",
    "pd.options.display.max_columns = 20\n",
    "pd.options.display.float_format = \"{:.2f}\".format\n",
    "\n",
    "random_state = 2019\n",
    "np.random.seed(random_state)\n",
    "\n",
    "# Suppress warnings\n",
    "import warnings; warnings.filterwarnings('ignore')"
   ]
  },
  {
   "cell_type": "markdown",
   "metadata": {
    "colab_type": "text",
    "id": "1zVJDH0-dOB7"
   },
   "source": [
    "### **Read and explore the dataset**"
   ]
  },
  {
   "cell_type": "code",
   "execution_count": 7,
   "metadata": {
    "colab": {
     "base_uri": "https://localhost:8080/",
     "height": 204
    },
    "colab_type": "code",
    "id": "6R3M1ckscVJn",
    "outputId": "750d1463-52b4-4bd7-b24e-cfe0a7b46f3f"
   },
   "outputs": [
    {
     "data": {
      "text/html": [
       "<div>\n",
       "<style scoped>\n",
       "    .dataframe tbody tr th:only-of-type {\n",
       "        vertical-align: middle;\n",
       "    }\n",
       "\n",
       "    .dataframe tbody tr th {\n",
       "        vertical-align: top;\n",
       "    }\n",
       "\n",
       "    .dataframe thead th {\n",
       "        text-align: right;\n",
       "    }\n",
       "</style>\n",
       "<table border=\"1\" class=\"dataframe\">\n",
       "  <thead>\n",
       "    <tr style=\"text-align: right;\">\n",
       "      <th></th>\n",
       "      <th>UserID</th>\n",
       "      <th>ProductID</th>\n",
       "      <th>Rating</th>\n",
       "      <th>Timestamp</th>\n",
       "    </tr>\n",
       "  </thead>\n",
       "  <tbody>\n",
       "    <tr>\n",
       "      <th>0</th>\n",
       "      <td>AKM1MP6P0OYPR</td>\n",
       "      <td>0132793040</td>\n",
       "      <td>5.00</td>\n",
       "      <td>1365811200</td>\n",
       "    </tr>\n",
       "    <tr>\n",
       "      <th>1</th>\n",
       "      <td>A2CX7LUOHB2NDG</td>\n",
       "      <td>0321732944</td>\n",
       "      <td>5.00</td>\n",
       "      <td>1341100800</td>\n",
       "    </tr>\n",
       "    <tr>\n",
       "      <th>2</th>\n",
       "      <td>A2NWSAGRHCP8N5</td>\n",
       "      <td>0439886341</td>\n",
       "      <td>1.00</td>\n",
       "      <td>1367193600</td>\n",
       "    </tr>\n",
       "    <tr>\n",
       "      <th>3</th>\n",
       "      <td>A2WNBOD3WNDNKT</td>\n",
       "      <td>0439886341</td>\n",
       "      <td>3.00</td>\n",
       "      <td>1374451200</td>\n",
       "    </tr>\n",
       "    <tr>\n",
       "      <th>4</th>\n",
       "      <td>A1GI0U4ZRJA8WN</td>\n",
       "      <td>0439886341</td>\n",
       "      <td>1.00</td>\n",
       "      <td>1334707200</td>\n",
       "    </tr>\n",
       "  </tbody>\n",
       "</table>\n",
       "</div>"
      ],
      "text/plain": [
       "           UserID   ProductID  Rating   Timestamp\n",
       "0   AKM1MP6P0OYPR  0132793040    5.00  1365811200\n",
       "1  A2CX7LUOHB2NDG  0321732944    5.00  1341100800\n",
       "2  A2NWSAGRHCP8N5  0439886341    1.00  1367193600\n",
       "3  A2WNBOD3WNDNKT  0439886341    3.00  1374451200\n",
       "4  A1GI0U4ZRJA8WN  0439886341    1.00  1334707200"
      ]
     },
     "execution_count": 7,
     "metadata": {
      "tags": []
     },
     "output_type": "execute_result"
    }
   ],
   "source": [
    "\n",
    "# Reading the data as dataframe and print the first five rows\n",
    "ratings = pd.read_csv('ratings_Electronics.csv', header = None)\n",
    "ratings.columns = ['UserID', 'ProductID', 'Rating', 'Timestamp']\n",
    "ratings.head()"
   ]
  },
  {
   "cell_type": "code",
   "execution_count": 8,
   "metadata": {
    "colab": {
     "base_uri": "https://localhost:8080/",
     "height": 204
    },
    "colab_type": "code",
    "id": "Eh8NYqqgccDc",
    "outputId": "b1ce086f-d40f-45a0-a415-1959592cd67b"
   },
   "outputs": [
    {
     "name": "stdout",
     "output_type": "stream",
     "text": [
      "<class 'pandas.core.frame.DataFrame'>\n",
      "RangeIndex: 7824482 entries, 0 to 7824481\n",
      "Data columns (total 4 columns):\n",
      " #   Column     Dtype  \n",
      "---  ------     -----  \n",
      " 0   UserID     object \n",
      " 1   ProductID  object \n",
      " 2   Rating     float64\n",
      " 3   Timestamp  int64  \n",
      "dtypes: float64(1), int64(1), object(2)\n",
      "memory usage: 238.8+ MB\n"
     ]
    }
   ],
   "source": [
    "# Get info of the dataframe columns\n",
    "ratings.info()"
   ]
  },
  {
   "cell_type": "code",
   "execution_count": 9,
   "metadata": {
    "colab": {
     "base_uri": "https://localhost:8080/",
     "height": 102
    },
    "colab_type": "code",
    "id": "fUiOK4cidoYD",
    "outputId": "99988501-a6e7-47d0-e1e0-56f010630a3f"
   },
   "outputs": [
    {
     "data": {
      "text/plain": [
       "UserID       0\n",
       "ProductID    0\n",
       "Rating       0\n",
       "Timestamp    0\n",
       "dtype: int64"
      ]
     },
     "execution_count": 9,
     "metadata": {
      "tags": []
     },
     "output_type": "execute_result"
    }
   ],
   "source": [
    "# Check if there any null values in the dataframe. Null Value present in dataset.\n",
    "ratings.isnull().sum()"
   ]
  },
  {
   "cell_type": "code",
   "execution_count": 10,
   "metadata": {
    "colab": {
     "base_uri": "https://localhost:8080/",
     "height": 49
    },
    "colab_type": "code",
    "id": "Oe4GcpcpdzYB",
    "outputId": "16234f81-246d-40f3-f74a-302a2da786e2"
   },
   "outputs": [
    {
     "data": {
      "text/html": [
       "<div>\n",
       "<style scoped>\n",
       "    .dataframe tbody tr th:only-of-type {\n",
       "        vertical-align: middle;\n",
       "    }\n",
       "\n",
       "    .dataframe tbody tr th {\n",
       "        vertical-align: top;\n",
       "    }\n",
       "\n",
       "    .dataframe thead th {\n",
       "        text-align: right;\n",
       "    }\n",
       "</style>\n",
       "<table border=\"1\" class=\"dataframe\">\n",
       "  <thead>\n",
       "    <tr style=\"text-align: right;\">\n",
       "      <th></th>\n",
       "      <th>UserID</th>\n",
       "      <th>ProductID</th>\n",
       "      <th>Rating</th>\n",
       "      <th>Timestamp</th>\n",
       "    </tr>\n",
       "  </thead>\n",
       "  <tbody>\n",
       "  </tbody>\n",
       "</table>\n",
       "</div>"
      ],
      "text/plain": [
       "Empty DataFrame\n",
       "Columns: [UserID, ProductID, Rating, Timestamp]\n",
       "Index: []"
      ]
     },
     "execution_count": 10,
     "metadata": {
      "tags": []
     },
     "output_type": "execute_result"
    }
   ],
   "source": [
    "# Check if there are any duplicate rows. No duplicate row present in dataset\n",
    "ratings[ratings.duplicated(keep = 'first')]"
   ]
  },
  {
   "cell_type": "code",
   "execution_count": 11,
   "metadata": {
    "colab": {
     "base_uri": "https://localhost:8080/",
     "height": 34
    },
    "colab_type": "code",
    "id": "RR_Hz1GCeBYe",
    "outputId": "fcd0cc43-8782-44c7-82dd-f57d2e27d746"
   },
   "outputs": [
    {
     "data": {
      "text/plain": [
       "[1.0, 2.0, 3.0, 4.0, 5.0]"
      ]
     },
     "execution_count": 11,
     "metadata": {
      "tags": []
     },
     "output_type": "execute_result"
    }
   ],
   "source": [
    "# Checking the uniques in `Rating` column\n",
    "sorted(list(ratings['Rating'].unique()))"
   ]
  },
  {
   "cell_type": "markdown",
   "metadata": {
    "colab_type": "text",
    "id": "-Ru9DuUqevPD"
   },
   "source": [
    "**Observation 1 - Dataset shape**\n",
    "<br>Dataset has more than 7.8 million reviews and with information regarding user id, product id, rating and timestamp. There are no missing values and duplicates in the dataset. Ratings are on the scale of 1-5.\n",
    "\n",
    "**Observation 2 - Information on the type of variable**\n",
    "<br>**userID:** Every user identified with a unique id (Categorical, Nominal).\n",
    "<br>**productID**: Every product identified with a unique id (Categorical, Nominal).\n",
    "<br>**Rating**: Rating of the corresponding product by the corresponding user (Numerical, Discrete).\n",
    "<br>**Timestamp**: Time of the rating (Timestamp).\n"
   ]
  },
  {
   "cell_type": "code",
   "execution_count": 12,
   "metadata": {
    "colab": {
     "base_uri": "https://localhost:8080/",
     "height": 390
    },
    "colab_type": "code",
    "id": "qKfF2_efeQdL",
    "outputId": "1ff38dfe-5188-431d-9307-f2626dd10c92"
   },
   "outputs": [
    {
     "data": {
      "text/html": [
       "<div>\n",
       "<style scoped>\n",
       "    .dataframe tbody tr th:only-of-type {\n",
       "        vertical-align: middle;\n",
       "    }\n",
       "\n",
       "    .dataframe tbody tr th {\n",
       "        vertical-align: top;\n",
       "    }\n",
       "\n",
       "    .dataframe thead th {\n",
       "        text-align: right;\n",
       "    }\n",
       "</style>\n",
       "<table border=\"1\" class=\"dataframe\">\n",
       "  <thead>\n",
       "    <tr style=\"text-align: right;\">\n",
       "      <th></th>\n",
       "      <th>UserID</th>\n",
       "      <th>ProductID</th>\n",
       "      <th>Rating</th>\n",
       "      <th>Timestamp</th>\n",
       "    </tr>\n",
       "  </thead>\n",
       "  <tbody>\n",
       "    <tr>\n",
       "      <th>count</th>\n",
       "      <td>7824482</td>\n",
       "      <td>7824482</td>\n",
       "      <td>7824482.00</td>\n",
       "      <td>7824482.00</td>\n",
       "    </tr>\n",
       "    <tr>\n",
       "      <th>unique</th>\n",
       "      <td>4201696</td>\n",
       "      <td>476002</td>\n",
       "      <td>nan</td>\n",
       "      <td>nan</td>\n",
       "    </tr>\n",
       "    <tr>\n",
       "      <th>top</th>\n",
       "      <td>A5JLAU2ARJ0BO</td>\n",
       "      <td>B0074BW614</td>\n",
       "      <td>nan</td>\n",
       "      <td>nan</td>\n",
       "    </tr>\n",
       "    <tr>\n",
       "      <th>freq</th>\n",
       "      <td>520</td>\n",
       "      <td>18244</td>\n",
       "      <td>nan</td>\n",
       "      <td>nan</td>\n",
       "    </tr>\n",
       "    <tr>\n",
       "      <th>mean</th>\n",
       "      <td>NaN</td>\n",
       "      <td>NaN</td>\n",
       "      <td>4.01</td>\n",
       "      <td>1338178197.27</td>\n",
       "    </tr>\n",
       "    <tr>\n",
       "      <th>std</th>\n",
       "      <td>NaN</td>\n",
       "      <td>NaN</td>\n",
       "      <td>1.38</td>\n",
       "      <td>69004257.79</td>\n",
       "    </tr>\n",
       "    <tr>\n",
       "      <th>min</th>\n",
       "      <td>NaN</td>\n",
       "      <td>NaN</td>\n",
       "      <td>1.00</td>\n",
       "      <td>912729600.00</td>\n",
       "    </tr>\n",
       "    <tr>\n",
       "      <th>25%</th>\n",
       "      <td>NaN</td>\n",
       "      <td>NaN</td>\n",
       "      <td>3.00</td>\n",
       "      <td>1315353600.00</td>\n",
       "    </tr>\n",
       "    <tr>\n",
       "      <th>50%</th>\n",
       "      <td>NaN</td>\n",
       "      <td>NaN</td>\n",
       "      <td>5.00</td>\n",
       "      <td>1361059200.00</td>\n",
       "    </tr>\n",
       "    <tr>\n",
       "      <th>75%</th>\n",
       "      <td>NaN</td>\n",
       "      <td>NaN</td>\n",
       "      <td>5.00</td>\n",
       "      <td>1386115200.00</td>\n",
       "    </tr>\n",
       "    <tr>\n",
       "      <th>max</th>\n",
       "      <td>NaN</td>\n",
       "      <td>NaN</td>\n",
       "      <td>5.00</td>\n",
       "      <td>1406073600.00</td>\n",
       "    </tr>\n",
       "  </tbody>\n",
       "</table>\n",
       "</div>"
      ],
      "text/plain": [
       "               UserID   ProductID     Rating     Timestamp\n",
       "count         7824482     7824482 7824482.00    7824482.00\n",
       "unique        4201696      476002        nan           nan\n",
       "top     A5JLAU2ARJ0BO  B0074BW614        nan           nan\n",
       "freq              520       18244        nan           nan\n",
       "mean              NaN         NaN       4.01 1338178197.27\n",
       "std               NaN         NaN       1.38   69004257.79\n",
       "min               NaN         NaN       1.00  912729600.00\n",
       "25%               NaN         NaN       3.00 1315353600.00\n",
       "50%               NaN         NaN       5.00 1361059200.00\n",
       "75%               NaN         NaN       5.00 1386115200.00\n",
       "max               NaN         NaN       5.00 1406073600.00"
      ]
     },
     "execution_count": 12,
     "metadata": {
      "tags": []
     },
     "output_type": "execute_result"
    }
   ],
   "source": [
    "\n",
    "### Five point summary of numerical attributes and check unique values in 'object' columns\n",
    "ratings.describe(include = 'all')"
   ]
  },
  {
   "cell_type": "code",
   "execution_count": 13,
   "metadata": {
    "colab": {
     "base_uri": "https://localhost:8080/",
     "height": 51
    },
    "colab_type": "code",
    "id": "M3O6JqQAfgXO",
    "outputId": "f31b31dc-38ce-4985-c3dd-9ac17e2fca68"
   },
   "outputs": [
    {
     "data": {
      "text/plain": [
       "['0132793040', '0321732944', '0439886341', '0511189877', '0528881469']"
      ]
     },
     "metadata": {
      "tags": []
     },
     "output_type": "display_data"
    },
    {
     "data": {
      "text/plain": [
       "['BT008G3W52', 'BT008SXQ4C', 'BT008T2BGK', 'BT008UKTMW', 'BT008V9J9U']"
      ]
     },
     "metadata": {
      "tags": []
     },
     "output_type": "display_data"
    }
   ],
   "source": [
    "display(sorted(list(ratings['ProductID'].unique()))[0:5], sorted(list(ratings['ProductID'].unique()))[-5:])"
   ]
  },
  {
   "cell_type": "markdown",
   "metadata": {
    "colab_type": "text",
    "id": "NP07rexOjClK"
   },
   "source": [
    "**Observation 3 - Descriptive statistics**\n",
    "<BR>**UserID:** Categorical column with alphanumeric user id. Number of users in the dataset: 4201696.\n",
    "<BR>**ProductID:** Categorical column with some of the product ids being numerical entries and some being alphanumerics. Numbers of rated products: 476002.\n",
    "<BR>**Rating:** Users have rated the products on the scale of 1 to 5.\n",
    "<BR>**Timestamp:** Can be useful if we convert the numerical timestamp to datetime."
   ]
  },
  {
   "cell_type": "code",
   "execution_count": 14,
   "metadata": {
    "colab": {
     "base_uri": "https://localhost:8080/",
     "height": 470
    },
    "colab_type": "code",
    "id": "0fWMZeYbjTtF",
    "outputId": "7fa5d9cd-ab24-47fd-8e36-476e885fcf66"
   },
   "outputs": [
    {
     "data": {
      "image/png": "[encoded data removed]",
      "text/plain": [
       "<Figure size 1080x518.4 with 2 Axes>"
      ]
     },
     "metadata": {
      "needs_background": "light",
      "tags": []
     },
     "output_type": "display_data"
    }
   ],
   "source": [
    "fig = plt.figure(figsize = (15, 7.2))\n",
    "ax = fig.add_subplot(121)\n",
    "g = sns.distplot(ratings['Rating'], ax = ax).set_title('Distribution of Ratings')\n",
    "ax = fig.add_subplot(122)\n",
    "g = sns.countplot(ratings['Rating']).set_title('Count of Ratings')"
   ]
  },
  {
   "cell_type": "code",
   "execution_count": 15,
   "metadata": {
    "colab": {},
    "colab_type": "code",
    "id": "XHBZfSmTjdea"
   },
   "outputs": [],
   "source": [
    "ratings['Timestamp'] = pd.to_datetime(ratings['Timestamp'], unit = 's')\n",
    "ratings['Year'] = ratings['Timestamp'].dt.year"
   ]
  },
  {
   "cell_type": "code",
   "execution_count": 16,
   "metadata": {
    "colab": {
     "base_uri": "https://localhost:8080/",
     "height": 504
    },
    "colab_type": "code",
    "id": "2XiiiJlJjldp",
    "outputId": "39523f55-7a04-4b9e-9715-ca7b53022de5"
   },
   "outputs": [
    {
     "name": "stdout",
     "output_type": "stream",
     "text": [
      "Trend of ratings over the years\n",
      "--------------------------------------------------------------------------------\n"
     ]
    },
    {
     "data": {
      "image/png": "[encoded data removed]",
      "text/plain": [
       "<Figure size 1080x518.4 with 1 Axes>"
      ]
     },
     "metadata": {
      "needs_background": "light",
      "tags": []
     },
     "output_type": "display_data"
    }
   ],
   "source": [
    "print('Trend of ratings over the years'); print('--'*40)\n",
    "ratings_over_years = ratings.groupby(by = 'Year', as_index = False)['Rating'].count()\n",
    "\n",
    "fig = plt.figure(figsize = (15, 7.2))\n",
    "g = sns.lineplot(x = 'Year', y = 'Rating', data = ratings_over_years).set_title('Trend of Ratings over the Years')\n",
    "\n",
    "del g, ratings_over_years"
   ]
  },
  {
   "cell_type": "code",
   "execution_count": 17,
   "metadata": {
    "colab": {
     "base_uri": "https://localhost:8080/",
     "height": 536
    },
    "colab_type": "code",
    "id": "duJhJfSUjpNB",
    "outputId": "f156b1c7-8e09-43f0-9901-7e086b58682f"
   },
   "outputs": [
    {
     "name": "stdout",
     "output_type": "stream",
     "text": [
      "Yearwise Counts for Ratings. Trend is similar across rating category.\n",
      "Most of the users have rated 5 on products and highest number of ratings came in 2013.\n",
      "--------------------------------------------------------------------------------\n"
     ]
    },
    {
     "data": {
      "image/png": "[encoded data removed]",
      "text/plain": [
       "<Figure size 1080x518.4 with 5 Axes>"
      ]
     },
     "metadata": {
      "needs_background": "light",
      "tags": []
     },
     "output_type": "display_data"
    }
   ],
   "source": [
    "print('Yearwise Counts for Ratings. Trend is similar across rating category.'); \n",
    "print('Most of the users have rated 5 on products and highest number of ratings came in 2013.'); print('--'*40)\n",
    "\n",
    "year_wise_ratings = pd.DataFrame(ratings.groupby(['Rating', 'Year'], as_index = False)['UserID'].count())\n",
    "year_wise_ratings.rename(columns = {'UserID': 'Counts'}, inplace = True)\n",
    "ratings_ = sorted(year_wise_ratings['Rating'].unique())\n",
    "\n",
    "fig, axes = plt.subplots(nrows = 2, ncols = 3, squeeze = False, figsize = (15, 7.2))\n",
    "plt.subplots_adjust(hspace = 0.5)\n",
    "axes_list = [item for sublist in axes for item in sublist] \n",
    "\n",
    "for rating in ratings_:\n",
    "    ax = axes_list.pop(0)\n",
    "    g = year_wise_ratings[year_wise_ratings['Rating'] == rating].plot(kind = 'bar', x ='Year', y = 'Counts', label = f'Rating = {rating}', \n",
    "                                                                  ax = ax, legend = True)\n",
    "    ax.set_title(f'Yearwise Count for Rating = {rating}')\n",
    "\n",
    "for ax in axes_list:\n",
    "    ax.remove()\n",
    "\n",
    "del ax, axes, axes_list, fig, rating, ratings_, year_wise_ratings"
   ]
  },
  {
   "cell_type": "code",
   "execution_count": 18,
   "metadata": {
    "colab": {
     "base_uri": "https://localhost:8080/",
     "height": 238
    },
    "colab_type": "code",
    "id": "IclyM8S5j0zL",
    "outputId": "0df18eaf-65e2-4c70-ca45-fd253392cb78"
   },
   "outputs": [
    {
     "name": "stdout",
     "output_type": "stream",
     "text": [
      "Adding a column with count of rating per user\n"
     ]
    },
    {
     "data": {
      "text/plain": [
       "(7824482, 6)"
      ]
     },
     "metadata": {
      "tags": []
     },
     "output_type": "display_data"
    },
    {
     "data": {
      "text/html": [
       "<div>\n",
       "<style scoped>\n",
       "    .dataframe tbody tr th:only-of-type {\n",
       "        vertical-align: middle;\n",
       "    }\n",
       "\n",
       "    .dataframe tbody tr th {\n",
       "        vertical-align: top;\n",
       "    }\n",
       "\n",
       "    .dataframe thead th {\n",
       "        text-align: right;\n",
       "    }\n",
       "</style>\n",
       "<table border=\"1\" class=\"dataframe\">\n",
       "  <thead>\n",
       "    <tr style=\"text-align: right;\">\n",
       "      <th></th>\n",
       "      <th>UserID</th>\n",
       "      <th>ProductID</th>\n",
       "      <th>Rating</th>\n",
       "      <th>Timestamp</th>\n",
       "      <th>Year</th>\n",
       "      <th>UserIDCounts</th>\n",
       "    </tr>\n",
       "  </thead>\n",
       "  <tbody>\n",
       "    <tr>\n",
       "      <th>0</th>\n",
       "      <td>AKM1MP6P0OYPR</td>\n",
       "      <td>0132793040</td>\n",
       "      <td>5.00</td>\n",
       "      <td>2013-04-13</td>\n",
       "      <td>2013</td>\n",
       "      <td>2</td>\n",
       "    </tr>\n",
       "    <tr>\n",
       "      <th>1</th>\n",
       "      <td>A2CX7LUOHB2NDG</td>\n",
       "      <td>0321732944</td>\n",
       "      <td>5.00</td>\n",
       "      <td>2012-07-01</td>\n",
       "      <td>2012</td>\n",
       "      <td>4</td>\n",
       "    </tr>\n",
       "    <tr>\n",
       "      <th>2</th>\n",
       "      <td>A2NWSAGRHCP8N5</td>\n",
       "      <td>0439886341</td>\n",
       "      <td>1.00</td>\n",
       "      <td>2013-04-29</td>\n",
       "      <td>2013</td>\n",
       "      <td>1</td>\n",
       "    </tr>\n",
       "    <tr>\n",
       "      <th>3</th>\n",
       "      <td>A2WNBOD3WNDNKT</td>\n",
       "      <td>0439886341</td>\n",
       "      <td>3.00</td>\n",
       "      <td>2013-07-22</td>\n",
       "      <td>2013</td>\n",
       "      <td>1</td>\n",
       "    </tr>\n",
       "    <tr>\n",
       "      <th>4</th>\n",
       "      <td>A1GI0U4ZRJA8WN</td>\n",
       "      <td>0439886341</td>\n",
       "      <td>1.00</td>\n",
       "      <td>2012-04-18</td>\n",
       "      <td>2012</td>\n",
       "      <td>1</td>\n",
       "    </tr>\n",
       "  </tbody>\n",
       "</table>\n",
       "</div>"
      ],
      "text/plain": [
       "           UserID   ProductID  Rating  Timestamp  Year  UserIDCounts\n",
       "0   AKM1MP6P0OYPR  0132793040    5.00 2013-04-13  2013             2\n",
       "1  A2CX7LUOHB2NDG  0321732944    5.00 2012-07-01  2012             4\n",
       "2  A2NWSAGRHCP8N5  0439886341    1.00 2013-04-29  2013             1\n",
       "3  A2WNBOD3WNDNKT  0439886341    3.00 2013-07-22  2013             1\n",
       "4  A1GI0U4ZRJA8WN  0439886341    1.00 2012-04-18  2012             1"
      ]
     },
     "metadata": {
      "tags": []
     },
     "output_type": "display_data"
    }
   ],
   "source": [
    "print('Adding a column with count of rating per user');\n",
    "userid = ratings['UserID'].value_counts()\n",
    "userid = pd.DataFrame(userid).reset_index()\n",
    "userid.columns = ['UserID', 'UserIDCounts']\n",
    "\n",
    "ratings_df = ratings.merge(userid, how = 'left', on = ['UserID'])\n",
    "display(ratings_df.shape, ratings_df.head())\n",
    "\n",
    "del userid"
   ]
  },
  {
   "cell_type": "code",
   "execution_count": 19,
   "metadata": {
    "colab": {
     "base_uri": "https://localhost:8080/",
     "height": 85
    },
    "colab_type": "code",
    "id": "7lXZcY0Nj_jl",
    "outputId": "8f537a83-6a95-4c9e-ebca-da2a3a399cd0"
   },
   "outputs": [
    {
     "name": "stdout",
     "output_type": "stream",
     "text": [
      "Number of unique USERS and PRODUCT IDs in the raw ratings dataframe\n",
      "--------------------------------------------------------------------------------\n",
      "Number of unique USERS in raw ratings dataframe =  4201696\n",
      "Number of unique PRODUCTS in raw ratings dataframe =  476002\n"
     ]
    }
   ],
   "source": [
    "# Number of unique user id and product id in the data\n",
    "print('Number of unique USERS and PRODUCT IDs in the raw ratings dataframe'); print('--'*40)\n",
    "print('Number of unique USERS in raw ratings dataframe = ', ratings_df['UserID'].nunique())\n",
    "print('Number of unique PRODUCTS in raw ratings dataframe = ', ratings_df['ProductID'].nunique())"
   ]
  },
  {
   "cell_type": "code",
   "execution_count": 20,
   "metadata": {
    "colab": {
     "base_uri": "https://localhost:8080/",
     "height": 521
    },
    "colab_type": "code",
    "id": "-ELv60gEkPxp",
    "outputId": "4a3cb2af-95ba-4e7b-fb5e-bda935d5efb9"
   },
   "outputs": [
    {
     "name": "stdout",
     "output_type": "stream",
     "text": [
      "Distribution of Ratings per User is sparser\n",
      "Maximum number of rating per user being 520 and minimum being 1\n",
      "--------------------------------------------------------------------------------\n"
     ]
    },
    {
     "data": {
      "image/png": "[encoded data removed]",
      "text/plain": [
       "<Figure size 1080x518.4 with 1 Axes>"
      ]
     },
     "metadata": {
      "needs_background": "light",
      "tags": []
     },
     "output_type": "display_data"
    }
   ],
   "source": [
    "print('Distribution of Ratings per User is sparser')\n",
    "print('Maximum number of rating per user being {maxm} and minimum being {minm}'.format(maxm = ratings_df['UserIDCounts'].max(), \n",
    "                                                                                       minm = ratings_df['UserIDCounts'].min()))\n",
    "print('--'*40)\n",
    "fig = plt.figure(figsize = (15, 7.2))\n",
    "g = sns.distplot(ratings_df['UserIDCounts'], bins = 50).set_title('Distribution of Ratings per User')\n",
    "\n",
    "del fig, g"
   ]
  },
  {
   "cell_type": "code",
   "execution_count": 21,
   "metadata": {
    "colab": {
     "base_uri": "https://localhost:8080/",
     "height": 85
    },
    "colab_type": "code",
    "id": "W4F5klgMkZ0j",
    "outputId": "6d90a2f1-e9cf-481c-972a-6c000535a69a"
   },
   "outputs": [
    {
     "name": "stdout",
     "output_type": "stream",
     "text": [
      "Taking a subset of dataset to make it less sparse/denser\n",
      "Keeping users those who have given more than 49 number of ratings\n",
      "--------------------------------------------------------------------------------\n",
      "Number of rows after filtering: 125871\n"
     ]
    }
   ],
   "source": [
    "print('Taking a subset of dataset to make it less sparse/denser')\n",
    "print('Keeping users those who have given more than 49 number of ratings'); print('--'*40)\n",
    "\n",
    "ratings_df = ratings_df[ratings_df['UserIDCounts'] >= 50]\n",
    "print('Number of rows after filtering: {}'.format(ratings_df.shape[0]))"
   ]
  },
  {
   "cell_type": "code",
   "execution_count": 22,
   "metadata": {
    "colab": {
     "base_uri": "https://localhost:8080/",
     "height": 470
    },
    "colab_type": "code",
    "id": "QHO_X9ctkjaQ",
    "outputId": "1e9ea249-154e-4f59-86fe-528eaf4a4f5e"
   },
   "outputs": [
    {
     "data": {
      "image/png": "[encoded data removed]",
      "text/plain": [
       "<Figure size 1080x518.4 with 1 Axes>"
      ]
     },
     "metadata": {
      "needs_background": "light",
      "tags": []
     },
     "output_type": "display_data"
    }
   ],
   "source": [
    "fig = plt.figure(figsize = (15, 7.2))\n",
    "g = sns.distplot(ratings_df['UserIDCounts'], bins = 50).set_title('Distribution of Ratings per User after filtering users with less than 50 ratings')\n",
    "\n",
    "del fig, g\n"
   ]
  },
  {
   "cell_type": "code",
   "execution_count": 23,
   "metadata": {
    "colab": {
     "base_uri": "https://localhost:8080/",
     "height": 34
    },
    "colab_type": "code",
    "id": "AL3Uifg_kw54",
    "outputId": "46bc9713-b62d-438d-89cc-3f35a5df4211"
   },
   "outputs": [
    {
     "name": "stdout",
     "output_type": "stream",
     "text": [
      "Number of product ids after filtering based on ratings given by users: 48190\n"
     ]
    }
   ],
   "source": [
    "print('Number of product ids after filtering based on ratings given by users: {}'.format(ratings_df['ProductID'].nunique()))"
   ]
  },
  {
   "cell_type": "code",
   "execution_count": 24,
   "metadata": {
    "colab": {
     "base_uri": "https://localhost:8080/",
     "height": 51
    },
    "colab_type": "code",
    "id": "d5kAAR8pkzpZ",
    "outputId": "df5afe90-2a62-48d1-f0ff-6abb4c39ce03"
   },
   "outputs": [
    {
     "name": "stdout",
     "output_type": "stream",
     "text": [
      "Selecting only UserID, ProductID and 'Rating' column\n",
      "--------------------------------------------------------------------------------\n"
     ]
    }
   ],
   "source": [
    "print('Selecting only UserID, ProductID and \\'Rating\\' column'); print('--'*40)\n",
    "ratings = ratings_df[['UserID', 'ProductID', 'Rating']]"
   ]
  },
  {
   "cell_type": "code",
   "execution_count": 25,
   "metadata": {
    "colab": {
     "base_uri": "https://localhost:8080/",
     "height": 85
    },
    "colab_type": "code",
    "id": "DvImj52sk5Fb",
    "outputId": "93ee8154-b8d8-48ec-d6a4-8fdc2fe16766"
   },
   "outputs": [
    {
     "name": "stdout",
     "output_type": "stream",
     "text": [
      "Number of unique USERS and PRODUCT IDs in the filtered ratings dataframe\n",
      "--------------------------------------------------------------------------------\n",
      "Number of unique USERS in filtered ratings dataframe =  1540\n",
      "Number of unique PRODUCTS in filtered ratings dataframe =  48190\n"
     ]
    }
   ],
   "source": [
    "# Number of unique user id and product id in the data\n",
    "print('Number of unique USERS and PRODUCT IDs in the filtered ratings dataframe'); print('--'*40)\n",
    "print('Number of unique USERS in filtered ratings dataframe = ', ratings['UserID'].nunique())\n",
    "print('Number of unique PRODUCTS in filtered ratings dataframe = ', ratings['ProductID'].nunique())"
   ]
  },
  {
   "cell_type": "code",
   "execution_count": 26,
   "metadata": {
    "colab": {
     "base_uri": "https://localhost:8080/",
     "height": 510
    },
    "colab_type": "code",
    "id": "9kZOpevTlNLR",
    "outputId": "47140223-bab1-4747-8602-9980a8461e6d"
   },
   "outputs": [
    {
     "name": "stdout",
     "output_type": "stream",
     "text": [
      "Top 10 users based on # of ratings given\n",
      "--------------------------------------------------------------------------------\n"
     ]
    },
    {
     "data": {
      "text/plain": [
       "UserID\n",
       "A5JLAU2ARJ0BO     520\n",
       "ADLVFFE4VBT8      501\n",
       "A3OXHLG6DIBRW8    498\n",
       "A6FIAB28IS79      431\n",
       "A680RUE1FDO8B     406\n",
       "A1ODOGXEYECQQ8    380\n",
       "A36K2N527TXXJN    314\n",
       "A2AY4YUOX2N1BQ    311\n",
       "AWPODHOB4GFWL     308\n",
       "A25C2M3QF9G7OQ    296\n",
       "dtype: int64"
      ]
     },
     "metadata": {
      "tags": []
     },
     "output_type": "display_data"
    },
    {
     "name": "stdout",
     "output_type": "stream",
     "text": [
      "\n",
      "Bottom 10 users based on # of ratings given\n",
      "--------------------------------------------------------------------------------\n"
     ]
    },
    {
     "data": {
      "text/plain": [
       "UserID\n",
       "A2RS66Y79Q8X0W    50\n",
       "A2Y4H3PXB07WQI    50\n",
       "A3VZH0PWLQ9BB1    50\n",
       "A19N3S7CBSU6O7    50\n",
       "A1IU4UAV9QIJAI    50\n",
       "A319Y83RT0MRVR    50\n",
       "A27H61OHW44XA7    50\n",
       "A2JRDFIGWTX50J    50\n",
       "A2RGA7UGAN3UL7    50\n",
       "ACH055GTTIGC9     50\n",
       "dtype: int64"
      ]
     },
     "metadata": {
      "tags": []
     },
     "output_type": "display_data"
    }
   ],
   "source": [
    "# Top and bottom 10 users based on # of ratings given\n",
    "print('Top 10 users based on # of ratings given'); print('--'*40)\n",
    "most_rated = ratings.groupby('UserID').size().sort_values(ascending = False)[:10]\n",
    "display(most_rated)\n",
    "\n",
    "print('\\nBottom 10 users based on # of ratings given'); print('--'*40)\n",
    "least_rated = ratings.groupby('UserID').size().sort_values(ascending = True)[:10]\n",
    "display(least_rated)\n",
    "\n",
    "del most_rated, least_rated"
   ]
  },
  {
   "cell_type": "markdown",
   "metadata": {
    "colab_type": "text",
    "id": "II2FC9DkldOS"
   },
   "source": [
    "#### **Recommenders**\n",
    "We will explore following methods of making recommendations:\n",
    "\n",
    "1. Popularity based recommendations\n",
    "2. Collaborative filtering (User-based and Item-based recommendations)"
   ]
  },
  {
   "cell_type": "code",
   "execution_count": 27,
   "metadata": {
    "colab": {
     "base_uri": "https://localhost:8080/",
     "height": 51
    },
    "colab_type": "code",
    "id": "4bsyfVJylmFG",
    "outputId": "f864a73b-f6ce-4a6a-d589-2baa422ea8fa"
   },
   "outputs": [
    {
     "data": {
      "text/plain": [
       "(88109, 3)"
      ]
     },
     "metadata": {
      "tags": []
     },
     "output_type": "display_data"
    },
    {
     "data": {
      "text/plain": [
       "(37762, 3)"
      ]
     },
     "metadata": {
      "tags": []
     },
     "output_type": "display_data"
    }
   ],
   "source": [
    "train_data, test_data = train_test_split(ratings, test_size = 0.30, random_state = random_state)\n",
    "display(train_data.shape, test_data.shape)"
   ]
  },
  {
   "cell_type": "code",
   "execution_count": 28,
   "metadata": {
    "colab": {
     "base_uri": "https://localhost:8080/",
     "height": 68
    },
    "colab_type": "code",
    "id": "o6DnO1uIltBA",
    "outputId": "4cffc20c-7d57-4da3-9069-1fd25f7782c4"
   },
   "outputs": [
    {
     "name": "stdout",
     "output_type": "stream",
     "text": [
      "Number of unique users in training dataframe 1540\n",
      "Number of unique users in test dataframe: 1540\n",
      "Number of products that aren't present in test dataframe: \n"
     ]
    }
   ],
   "source": [
    "\n",
    "print('Number of unique users in training dataframe {}'.format(train_data['UserID'].nunique()))\n",
    "print('Number of unique users in test dataframe: {}'.format(test_data['UserID'].nunique()))\n",
    "print('Number of products that aren\\'t present in test dataframe: '.format(len(list(set(list(train_data['ProductID'].unique())) - set(list(test_data['ProductID'].unique()))))))"
   ]
  },
  {
   "cell_type": "code",
   "execution_count": 29,
   "metadata": {
    "colab": {
     "base_uri": "https://localhost:8080/",
     "height": 68
    },
    "colab_type": "code",
    "id": "e299hle0l3e_",
    "outputId": "efd2c642-91a5-4274-d2e4-56c92f66b42e"
   },
   "outputs": [
    {
     "name": "stdout",
     "output_type": "stream",
     "text": [
      "Number of unique products in training dataframe 38184\n",
      "Number of unique products in test dataframe: 21323\n",
      "Number of products that aren't present in test dataframe: 26867\n"
     ]
    }
   ],
   "source": [
    "print('Number of unique products in training dataframe {}'.format(train_data['ProductID'].nunique()))\n",
    "print('Number of unique products in test dataframe: {}'.format(test_data['ProductID'].nunique()))\n",
    "print('Number of products that aren\\'t present in test dataframe: {}'.format(len(list(set(list(train_data['ProductID'].unique())) - set(list(test_data['ProductID'].unique()))))))"
   ]
  },
  {
   "cell_type": "markdown",
   "metadata": {
    "colab_type": "text",
    "id": "DkWMfVctmDC-"
   },
   "source": [
    "\n",
    "#####  **1. Popularity based recommendations**\n",
    "Create a class to make recommendation using popularity based method.\n",
    "Get top 5 recommendations for couple of users, recommendations are based on the Rating means for the Product IDs. However will later explore other methods as well.\n",
    "Comment on the findings."
   ]
  },
  {
   "cell_type": "code",
   "execution_count": 30,
   "metadata": {
    "colab": {},
    "colab_type": "code",
    "id": "iGMoW1ONmGhh"
   },
   "outputs": [],
   "source": [
    "#Class for Popularity based Recommender System\n",
    "class popularity_recommender():   \n",
    "    def __init__(self):\n",
    "      self.trainSet = None\n",
    "      self.userId = None\n",
    "      self.productId = None\n",
    "      self.popularityRecommendations = None\n",
    "      self.topN = None\n",
    "    def create(self, trainSet, userId, productId, topN):\n",
    "      self.trainSet = trainSet\n",
    "      self.userId = userId\n",
    "      self.productId = productId\n",
    "      self.topN = topN\n",
    "\n",
    "      byRating = self.trainSet.groupby('ProductID', sort = False, as_index = False)['Rating'].mean().sort_values(by = 'Rating', ascending = False)\n",
    "      byRating['RatingRank'] = byRating['Rating'].rank(ascending = False, method = 'first')\n",
    "\n",
    "      byUsers = self.trainSet.groupby('ProductID', sort = False, as_index = False)['Rating'].count().sort_values(by = 'Rating', ascending = False)\n",
    "      byUsers.columns = ['ProductID', 'RatingCount']\n",
    "      \n",
    "      byRatingUsers = pd.merge(byRating, byUsers, on = 'ProductID', how = 'left')\n",
    "      byRatingUsers = byRatingUsers.sort_values(by = 'RatingRank', ascending = False)\n",
    "\n",
    "      self.popularity_recommendations = byRating.head(self.topN)\n",
    "      return byRatingUsers\n",
    "\n",
    "    def recommend(self, user_id):            \n",
    "      user_recommendations = self.popularity_recommendations\n",
    "      \n",
    "      user_recommendations['UserID'] = user_id\n",
    "      \n",
    "      cols = user_recommendations.columns.tolist()\n",
    "      cols = cols[-1:] + cols[:-1]\n",
    "      user_recommendations = user_recommendations[cols]\n",
    "      try:\n",
    "        print('User has already rated products (from data in training set): {}'.format(self.trainSet.loc[(self.trainSet['UserID'] == user_id), 'ProductID'].nunique()))\n",
    "        print('Top 5 products from what\\'s already being rated: {}'.format(list(self.trainSet[(self.trainSet['UserID'] == user_id)].sort_values(by = 'Rating', ascending = False).head(5)['ProductID'])))\n",
    "      except:\n",
    "        print('There\\'s no data for the selected user in training set')\n",
    "      print('\\nTop 5 recommendations for the user based on popularity based method: {}'.format(list(user_recommendations['ProductID'])))\n",
    "      return list(user_recommendations['ProductID'])"
   ]
  },
  {
   "cell_type": "code",
   "execution_count": 31,
   "metadata": {
    "colab": {
     "base_uri": "https://localhost:8080/",
     "height": 323
    },
    "colab_type": "code",
    "id": "7t-Lg4j4mmyC",
    "outputId": "59fff57b-5e13-41f4-e192-397cd7cf0e83"
   },
   "outputs": [
    {
     "name": "stdout",
     "output_type": "stream",
     "text": [
      "Popularity recommendation is based on the mean of Ratings received and not Rating counts, later we will explore other methods as well.\n",
      "Get top - K ( K = 5) recommendations.\n",
      "Since our goal is to recommend new products to each user based on his/her habits, we will recommend 5 new products.\n",
      "--------------------------------------------------------------------------------\n",
      "\n",
      "Make recommendation for the user id selected from the testset = \"A11D1KHM7DVOQK\"\n",
      "User has already rated products (from data in training set): 77\n",
      "Top 5 products from what's already being rated: ['B0009H9PZU', 'B0006B486K', 'B00009W3DS', 'B0009E5YNA', 'B00005V54U']\n",
      "\n",
      "Top 5 recommendations for the user based on popularity based method: ['B0000645V0', 'B0011YR8KO', 'B00JE0Q95M', 'B004T0B8O4', 'B000VQU3N2']\n",
      "\n",
      "\n",
      "Make recommendation for the user id selected from the testset = \"A149RNR5RH19YY\"\n",
      "--------------------------------------------------------------------------------\n",
      "User has already rated products (from data in training set): 97\n",
      "Top 5 products from what's already being rated: ['B00000JBAM', 'B000WR0CKE', 'B000BTL0OA', 'B0015AM30Y', 'B0000DIET2']\n",
      "\n",
      "Top 5 recommendations for the user based on popularity based method: ['B0000645V0', 'B0011YR8KO', 'B00JE0Q95M', 'B004T0B8O4', 'B000VQU3N2']\n"
     ]
    }
   ],
   "source": [
    "# Get top 5 recommendations\n",
    "print('Popularity recommendation is based on the mean of Ratings received and not Rating counts, later we will explore other methods as well.')\n",
    "print('Get top - K ( K = 5) recommendations.')\n",
    "print('Since our goal is to recommend new products to each user based on his/her habits, we will recommend 5 new products.'); print('--'*40)\n",
    "compare_dict = {}; result = {}\n",
    "popularity = popularity_recommender()\n",
    "byRatingUsers = popularity.create(train_data, 'UserID', 'ProductID', 5)\n",
    "\n",
    "print('\\nMake recommendation for the user id selected from the testset = \"A11D1KHM7DVOQK\"')\n",
    "user_id = \"A11D1KHM7DVOQK\"\n",
    "result[user_id] = popularity.recommend(user_id)\n",
    "\n",
    "print('\\n\\nMake recommendation for the user id selected from the testset = \"A149RNR5RH19YY\"'); print('--'*40)\n",
    "user_id = \"A149RNR5RH19YY\"\n",
    "result[user_id] = popularity.recommend(user_id)"
   ]
  },
  {
   "cell_type": "code",
   "execution_count": 32,
   "metadata": {
    "colab": {
     "base_uri": "https://localhost:8080/",
     "height": 51
    },
    "colab_type": "code",
    "id": "OfplsKx6mxyf",
    "outputId": "2886b2ca-fd91-4883-d111-ca059be8e6b5"
   },
   "outputs": [
    {
     "name": "stdout",
     "output_type": "stream",
     "text": [
      "Store the recommendations in a dictionary\n",
      "--------------------------------------------------------------------------------\n"
     ]
    }
   ],
   "source": [
    "\n",
    "print('Store the recommendations in a dictionary'); print('--'*40)\n",
    "compare_dict['PopularityRec'] = result"
   ]
  },
  {
   "cell_type": "code",
   "execution_count": 33,
   "metadata": {
    "colab": {
     "base_uri": "https://localhost:8080/",
     "height": 136
    },
    "colab_type": "code",
    "id": "MCHFCVlCm_pE",
    "outputId": "ae00fe78-9fad-4b2c-ea84-cb00b83fd1ae"
   },
   "outputs": [
    {
     "name": "stdout",
     "output_type": "stream",
     "text": [
      "Evaluating Popularity based Recommender\n",
      "Creating a new dataframe with mean rating for each product in test dataframe and using our prediction dataframe i.e. byRatingUsers to calculate RMSE\n",
      "--------------------------------------------------------------------------------\n",
      "Shape of test mean dataframe: (21323, 3)\n",
      "Shape of predicted (recommender) dataframe: (38184, 4)\n",
      "--------------------------------------------------------------------------------\n",
      "RMSE OF THE POPULARITY BASED RECOMMENDER: 3.0894\n"
     ]
    }
   ],
   "source": [
    "print('Evaluating Popularity based Recommender')\n",
    "print('Creating a new dataframe with mean rating for each product in test dataframe and using our prediction dataframe i.e. byRatingUsers to calculate RMSE'); print('--'*40)\n",
    "test_means = test_data.groupby('ProductID', sort = False, as_index = False)['Rating'].mean().sort_values(by = 'Rating', ascending = False)\n",
    "test_means = test_means.merge(byRatingUsers, on = 'ProductID', how = 'left', suffixes=('_act', '_pred')).drop(['RatingRank', 'RatingCount'], axis = 1).fillna(0)\n",
    "print('Shape of test mean dataframe: {}'.format(test_means.shape))\n",
    "print('Shape of predicted (recommender) dataframe: {}'.format(byRatingUsers.shape))\n",
    "\n",
    "RMSE_pop = sqrt(mean_squared_error(test_means['Rating_act'], test_means['Rating_pred']))\n",
    "print('--' * 40)\n",
    "print('RMSE OF THE POPULARITY BASED RECOMMENDER: {}'.format(round(RMSE_pop, 4)))"
   ]
  },
  {
   "cell_type": "code",
   "execution_count": 34,
   "metadata": {
    "colab": {
     "base_uri": "https://localhost:8080/",
     "height": 204
    },
    "colab_type": "code",
    "id": "350kcF5OnCRG",
    "outputId": "51b3646f-94b4-40ed-8699-d8496a96332c"
   },
   "outputs": [
    {
     "name": "stdout",
     "output_type": "stream",
     "text": [
      "Recommendations based on mean of Rating, which is the method used above\n",
      "--------------------------------------------------------------------------------\n"
     ]
    },
    {
     "data": {
      "text/plain": [
       "['B0000645V0', 'B0011YR8KO', 'B00JE0Q95M', 'B004T0B8O4', 'B000VQU3N2']"
      ]
     },
     "metadata": {
      "tags": []
     },
     "output_type": "display_data"
    },
    {
     "name": "stdout",
     "output_type": "stream",
     "text": [
      "\n",
      "Recommendations based on count of Rating\n",
      "--------------------------------------------------------------------------------\n"
     ]
    },
    {
     "data": {
      "text/plain": [
       "['B0088CJT4U', 'B003ES5ZUU', 'B000N99BBC', 'B007WTAJTO', 'B00829TIEK']"
      ]
     },
     "metadata": {
      "tags": []
     },
     "output_type": "display_data"
    },
    {
     "name": "stdout",
     "output_type": "stream",
     "text": [
      "\n",
      "Recommendations based on a mix of mean and count of Rating\n",
      "--------------------------------------------------------------------------------\n"
     ]
    },
    {
     "data": {
      "text/plain": [
       "['B00IVFDZBC', 'B002NEGTTW', 'B000F7QRTG', 'B001ENW61I', 'B000FQ2JLW']"
      ]
     },
     "metadata": {
      "tags": []
     },
     "output_type": "display_data"
    }
   ],
   "source": [
    "\n",
    "print('Recommendations based on mean of Rating, which is the method used above'); print('--'*40)\n",
    "display(byRatingUsers.sort_values(by = 'RatingRank', ascending = True).head(5)['ProductID'].tolist())\n",
    "\n",
    "print('\\nRecommendations based on count of Rating'); print('--'*40)\n",
    "display(byRatingUsers.sort_values(by = 'RatingCount', ascending = False).head(5)['ProductID'].tolist())\n",
    "\n",
    "print('\\nRecommendations based on a mix of mean and count of Rating'); print('--'*40)\n",
    "display(byRatingUsers.sort_values(by = ['Rating', 'RatingCount'], ascending = False).head(5)['ProductID'].tolist())"
   ]
  },
  {
   "cell_type": "code",
   "execution_count": 35,
   "metadata": {
    "colab": {
     "base_uri": "https://localhost:8080/",
     "height": 763
    },
    "colab_type": "code",
    "id": "0O9JtKkSnJB-",
    "outputId": "1edad820-9240-4fda-b538-e126f65935c1"
   },
   "outputs": [
    {
     "name": "stdout",
     "output_type": "stream",
     "text": [
      "Plot of average ratings versus number of ratings\n",
      "--------------------------------------------------------------------------------\n"
     ]
    },
    {
     "data": {
      "image/png": "[encoded data removed]",
      "text/plain": [
       "<Figure size 720x720 with 3 Axes>"
      ]
     },
     "metadata": {
      "needs_background": "light",
      "tags": []
     },
     "output_type": "display_data"
    }
   ],
   "source": [
    "print('Plot of average ratings versus number of ratings'); print('--'*40)\n",
    "g = sns.jointplot(x = 'Rating', y = 'RatingCount', data = byRatingUsers, alpha = 0.4, height = 10)\n",
    "\n",
    "del g, byRatingUsers, popularity_recommender, user_id"
   ]
  },
  {
   "cell_type": "markdown",
   "metadata": {
    "colab_type": "text",
    "id": "mQY4sBV5nU_n"
   },
   "source": [
    "\n",
    "##### **Observation 4 - Popularity Based Recommendation**\n",
    "* For popularity recommendation system, we recommended products based on mean of Ratings given by users. We saw that the top 5 products which we recommended to users are those where only 1 user from the training set has rated.\n",
    "*Then we also explored other methods for popularity recommendations. Those were based on:\n",
    "  * Count of Ratings received for the product \n",
    "  * Hybrid method for popularity recommendation, where in we used both mean and count of rating to decide on the product recommended.\n",
    "* For all of the above cases (recommendations based on mean, count, and mean and count), popularity based method lacks personalization i.e. same recommendations for all users. However, using Popularity based recommendation system it would easier to recommend products to a new user w/o having knowledge about who the users are or what their preferences are and recommending them the products that are in-trend.\n",
    "* RMSE of the popularity based recommendation method using mean of rating is 3.0894."
   ]
  },
  {
   "cell_type": "markdown",
   "metadata": {
    "colab_type": "text",
    "id": "_MtyvOFnofMv"
   },
   "source": [
    "##### **2. Collaborative Filtering**\n",
    "Objective is to build a recommendation system to recommend products to customers based on their previous ratings for other products i.e. item-based collaborative filtering.\n",
    "\n",
    "\"You tend to like that item because you've liked those items.\"\n",
    "\n",
    "whereas as we know that in user-based it's \"You may like it because your friends liked it\".\n",
    "\n",
    "* Model-based Collaborative Filtering: Singular Value Decomposition and evaluate k-NN based algos.\n",
    "* Use the filtered ratings dataframe and scipy based SVD to evaluate Item-based collaborative filtering method for suggesting products based to users based on what he has liked in past.\n",
    "* Also explore user based collaborative filtering.\n",
    "* Comment on the findings."
   ]
  },
  {
   "cell_type": "markdown",
   "metadata": {
    "colab_type": "text",
    "id": "PvUO1H6fo1Ej"
   },
   "source": [
    "##### **Model based Collaborative Filtering: SVD**"
   ]
  },
  {
   "cell_type": "code",
   "execution_count": 36,
   "metadata": {
    "colab": {
     "base_uri": "https://localhost:8080/",
     "height": 318
    },
    "colab_type": "code",
    "id": "6hkgxCEzpSHX",
    "outputId": "3de659e5-7aa0-49af-fff0-57a78830abc5"
   },
   "outputs": [
    {
     "name": "stdout",
     "output_type": "stream",
     "text": [
      "Matrix with one row per 'Product' and one column per 'User' for Item-based collaborative filtering\n",
      "--------------------------------------------------------------------------------\n"
     ]
    },
    {
     "data": {
      "text/html": [
       "<div>\n",
       "<style scoped>\n",
       "    .dataframe tbody tr th:only-of-type {\n",
       "        vertical-align: middle;\n",
       "    }\n",
       "\n",
       "    .dataframe tbody tr th {\n",
       "        vertical-align: top;\n",
       "    }\n",
       "\n",
       "    .dataframe thead th {\n",
       "        text-align: right;\n",
       "    }\n",
       "</style>\n",
       "<table border=\"1\" class=\"dataframe\">\n",
       "  <thead>\n",
       "    <tr style=\"text-align: right;\">\n",
       "      <th>ProductID</th>\n",
       "      <th>0594451647</th>\n",
       "      <th>0594481813</th>\n",
       "      <th>0970407998</th>\n",
       "      <th>0972683275</th>\n",
       "      <th>1400501466</th>\n",
       "      <th>1400501520</th>\n",
       "      <th>1400501776</th>\n",
       "      <th>1400532620</th>\n",
       "      <th>1400532655</th>\n",
       "      <th>140053271X</th>\n",
       "      <th>...</th>\n",
       "      <th>B00L5YZCCG</th>\n",
       "      <th>B00L8I6SFY</th>\n",
       "      <th>B00L8QCVL6</th>\n",
       "      <th>B00LA6T0LS</th>\n",
       "      <th>B00LBZ1Z7K</th>\n",
       "      <th>B00LED02VY</th>\n",
       "      <th>B00LGN7Y3G</th>\n",
       "      <th>B00LGQ6HL8</th>\n",
       "      <th>B00LI4ZZO8</th>\n",
       "      <th>B00LKG1MC8</th>\n",
       "    </tr>\n",
       "    <tr>\n",
       "      <th>UserID</th>\n",
       "      <th></th>\n",
       "      <th></th>\n",
       "      <th></th>\n",
       "      <th></th>\n",
       "      <th></th>\n",
       "      <th></th>\n",
       "      <th></th>\n",
       "      <th></th>\n",
       "      <th></th>\n",
       "      <th></th>\n",
       "      <th></th>\n",
       "      <th></th>\n",
       "      <th></th>\n",
       "      <th></th>\n",
       "      <th></th>\n",
       "      <th></th>\n",
       "      <th></th>\n",
       "      <th></th>\n",
       "      <th></th>\n",
       "      <th></th>\n",
       "      <th></th>\n",
       "    </tr>\n",
       "  </thead>\n",
       "  <tbody>\n",
       "    <tr>\n",
       "      <th>A100UD67AHFODS</th>\n",
       "      <td>0.00</td>\n",
       "      <td>0.00</td>\n",
       "      <td>0.00</td>\n",
       "      <td>0.00</td>\n",
       "      <td>0.00</td>\n",
       "      <td>0.00</td>\n",
       "      <td>0.00</td>\n",
       "      <td>0.00</td>\n",
       "      <td>0.00</td>\n",
       "      <td>0.00</td>\n",
       "      <td>...</td>\n",
       "      <td>0.00</td>\n",
       "      <td>0.00</td>\n",
       "      <td>0.00</td>\n",
       "      <td>0.00</td>\n",
       "      <td>0.00</td>\n",
       "      <td>0.00</td>\n",
       "      <td>0.00</td>\n",
       "      <td>0.00</td>\n",
       "      <td>0.00</td>\n",
       "      <td>0.00</td>\n",
       "    </tr>\n",
       "    <tr>\n",
       "      <th>A100WO06OQR8BQ</th>\n",
       "      <td>0.00</td>\n",
       "      <td>0.00</td>\n",
       "      <td>0.00</td>\n",
       "      <td>0.00</td>\n",
       "      <td>0.00</td>\n",
       "      <td>0.00</td>\n",
       "      <td>0.00</td>\n",
       "      <td>0.00</td>\n",
       "      <td>0.00</td>\n",
       "      <td>0.00</td>\n",
       "      <td>...</td>\n",
       "      <td>0.00</td>\n",
       "      <td>0.00</td>\n",
       "      <td>0.00</td>\n",
       "      <td>0.00</td>\n",
       "      <td>0.00</td>\n",
       "      <td>0.00</td>\n",
       "      <td>0.00</td>\n",
       "      <td>0.00</td>\n",
       "      <td>0.00</td>\n",
       "      <td>0.00</td>\n",
       "    </tr>\n",
       "    <tr>\n",
       "      <th>A105S56ODHGJEK</th>\n",
       "      <td>0.00</td>\n",
       "      <td>0.00</td>\n",
       "      <td>0.00</td>\n",
       "      <td>0.00</td>\n",
       "      <td>0.00</td>\n",
       "      <td>0.00</td>\n",
       "      <td>0.00</td>\n",
       "      <td>0.00</td>\n",
       "      <td>0.00</td>\n",
       "      <td>0.00</td>\n",
       "      <td>...</td>\n",
       "      <td>0.00</td>\n",
       "      <td>0.00</td>\n",
       "      <td>0.00</td>\n",
       "      <td>0.00</td>\n",
       "      <td>0.00</td>\n",
       "      <td>0.00</td>\n",
       "      <td>0.00</td>\n",
       "      <td>0.00</td>\n",
       "      <td>0.00</td>\n",
       "      <td>0.00</td>\n",
       "    </tr>\n",
       "    <tr>\n",
       "      <th>A105TOJ6LTVMBG</th>\n",
       "      <td>0.00</td>\n",
       "      <td>0.00</td>\n",
       "      <td>0.00</td>\n",
       "      <td>0.00</td>\n",
       "      <td>0.00</td>\n",
       "      <td>0.00</td>\n",
       "      <td>0.00</td>\n",
       "      <td>0.00</td>\n",
       "      <td>0.00</td>\n",
       "      <td>0.00</td>\n",
       "      <td>...</td>\n",
       "      <td>0.00</td>\n",
       "      <td>0.00</td>\n",
       "      <td>0.00</td>\n",
       "      <td>0.00</td>\n",
       "      <td>0.00</td>\n",
       "      <td>0.00</td>\n",
       "      <td>0.00</td>\n",
       "      <td>0.00</td>\n",
       "      <td>0.00</td>\n",
       "      <td>0.00</td>\n",
       "    </tr>\n",
       "    <tr>\n",
       "      <th>A10AFVU66A79Y1</th>\n",
       "      <td>0.00</td>\n",
       "      <td>0.00</td>\n",
       "      <td>0.00</td>\n",
       "      <td>0.00</td>\n",
       "      <td>0.00</td>\n",
       "      <td>0.00</td>\n",
       "      <td>0.00</td>\n",
       "      <td>0.00</td>\n",
       "      <td>0.00</td>\n",
       "      <td>0.00</td>\n",
       "      <td>...</td>\n",
       "      <td>0.00</td>\n",
       "      <td>0.00</td>\n",
       "      <td>0.00</td>\n",
       "      <td>0.00</td>\n",
       "      <td>0.00</td>\n",
       "      <td>0.00</td>\n",
       "      <td>0.00</td>\n",
       "      <td>0.00</td>\n",
       "      <td>0.00</td>\n",
       "      <td>0.00</td>\n",
       "    </tr>\n",
       "  </tbody>\n",
       "</table>\n",
       "<p>5 rows × 48190 columns</p>\n",
       "</div>"
      ],
      "text/plain": [
       "ProductID       0594451647  0594481813  0970407998  0972683275  1400501466  \\\n",
       "UserID                                                                       \n",
       "A100UD67AHFODS        0.00        0.00        0.00        0.00        0.00   \n",
       "A100WO06OQR8BQ        0.00        0.00        0.00        0.00        0.00   \n",
       "A105S56ODHGJEK        0.00        0.00        0.00        0.00        0.00   \n",
       "A105TOJ6LTVMBG        0.00        0.00        0.00        0.00        0.00   \n",
       "A10AFVU66A79Y1        0.00        0.00        0.00        0.00        0.00   \n",
       "\n",
       "ProductID       1400501520  1400501776  1400532620  1400532655  140053271X  \\\n",
       "UserID                                                                       \n",
       "A100UD67AHFODS        0.00        0.00        0.00        0.00        0.00   \n",
       "A100WO06OQR8BQ        0.00        0.00        0.00        0.00        0.00   \n",
       "A105S56ODHGJEK        0.00        0.00        0.00        0.00        0.00   \n",
       "A105TOJ6LTVMBG        0.00        0.00        0.00        0.00        0.00   \n",
       "A10AFVU66A79Y1        0.00        0.00        0.00        0.00        0.00   \n",
       "\n",
       "ProductID       ...  B00L5YZCCG  B00L8I6SFY  B00L8QCVL6  B00LA6T0LS  \\\n",
       "UserID          ...                                                   \n",
       "A100UD67AHFODS  ...        0.00        0.00        0.00        0.00   \n",
       "A100WO06OQR8BQ  ...        0.00        0.00        0.00        0.00   \n",
       "A105S56ODHGJEK  ...        0.00        0.00        0.00        0.00   \n",
       "A105TOJ6LTVMBG  ...        0.00        0.00        0.00        0.00   \n",
       "A10AFVU66A79Y1  ...        0.00        0.00        0.00        0.00   \n",
       "\n",
       "ProductID       B00LBZ1Z7K  B00LED02VY  B00LGN7Y3G  B00LGQ6HL8  B00LI4ZZO8  \\\n",
       "UserID                                                                       \n",
       "A100UD67AHFODS        0.00        0.00        0.00        0.00        0.00   \n",
       "A100WO06OQR8BQ        0.00        0.00        0.00        0.00        0.00   \n",
       "A105S56ODHGJEK        0.00        0.00        0.00        0.00        0.00   \n",
       "A105TOJ6LTVMBG        0.00        0.00        0.00        0.00        0.00   \n",
       "A10AFVU66A79Y1        0.00        0.00        0.00        0.00        0.00   \n",
       "\n",
       "ProductID       B00LKG1MC8  \n",
       "UserID                      \n",
       "A100UD67AHFODS        0.00  \n",
       "A100WO06OQR8BQ        0.00  \n",
       "A105S56ODHGJEK        0.00  \n",
       "A105TOJ6LTVMBG        0.00  \n",
       "A10AFVU66A79Y1        0.00  \n",
       "\n",
       "[5 rows x 48190 columns]"
      ]
     },
     "execution_count": 36,
     "metadata": {
      "tags": []
     },
     "output_type": "execute_result"
    }
   ],
   "source": [
    "# Item-based Collaborative Filtering\n",
    "print('Matrix with one row per \\'Product\\' and one column per \\'User\\' for Item-based collaborative filtering'); print('--'*40)\n",
    "ratings_item = ratings.pivot(index = 'UserID', columns = 'ProductID', values = 'Rating').fillna(0)\n",
    "ratings_item.head()"
   ]
  },
  {
   "cell_type": "code",
   "execution_count": 37,
   "metadata": {
    "colab": {
     "base_uri": "https://localhost:8080/",
     "height": 119
    },
    "colab_type": "code",
    "id": "9uiNPv--pUYf",
    "outputId": "9642c537-61af-42a7-8dd2-92be3dcf77df"
   },
   "outputs": [
    {
     "name": "stdout",
     "output_type": "stream",
     "text": [
      "Calculate the density of the ratings matrix\n",
      "--------------------------------------------------------------------------------\n",
      "Shape of ratings matrix:  (1540, 48190)\n",
      "given_num_of_ratings =  125871\n",
      "possible_num_of_ratings =  74212600\n",
      "density: 0.17%\n"
     ]
    }
   ],
   "source": [
    "# Calculate the density of the rating matrix\n",
    "print('Calculate the density of the ratings matrix'); print('--'*40)\n",
    "\n",
    "print('Shape of ratings matrix: ', ratings_item.shape)\n",
    "\n",
    "given_num_of_ratings = np.count_nonzero(ratings_item)\n",
    "print('given_num_of_ratings = ', given_num_of_ratings)\n",
    "\n",
    "possible_num_of_ratings = ratings_item.shape[0] * ratings_item.shape[1]\n",
    "print('possible_num_of_ratings = ', possible_num_of_ratings)\n",
    "\n",
    "density = (given_num_of_ratings/possible_num_of_ratings)\n",
    "density *= 100\n",
    "print ('density: {:4.2f}%'.format(density))"
   ]
  },
  {
   "cell_type": "code",
   "execution_count": 38,
   "metadata": {
    "colab": {
     "base_uri": "https://localhost:8080/",
     "height": 284
    },
    "colab_type": "code",
    "id": "NNG2zpTIpYKM",
    "outputId": "be30a01b-b085-401e-8f37-01758e21dfc0"
   },
   "outputs": [
    {
     "data": {
      "text/html": [
       "<div>\n",
       "<style scoped>\n",
       "    .dataframe tbody tr th:only-of-type {\n",
       "        vertical-align: middle;\n",
       "    }\n",
       "\n",
       "    .dataframe tbody tr th {\n",
       "        vertical-align: top;\n",
       "    }\n",
       "\n",
       "    .dataframe thead th {\n",
       "        text-align: right;\n",
       "    }\n",
       "</style>\n",
       "<table border=\"1\" class=\"dataframe\">\n",
       "  <thead>\n",
       "    <tr style=\"text-align: right;\">\n",
       "      <th>ProductID</th>\n",
       "      <th>0594451647</th>\n",
       "      <th>0594481813</th>\n",
       "      <th>0970407998</th>\n",
       "      <th>0972683275</th>\n",
       "      <th>1400501466</th>\n",
       "      <th>1400501520</th>\n",
       "      <th>1400501776</th>\n",
       "      <th>1400532620</th>\n",
       "      <th>1400532655</th>\n",
       "      <th>140053271X</th>\n",
       "      <th>...</th>\n",
       "      <th>B00L5YZCCG</th>\n",
       "      <th>B00L8I6SFY</th>\n",
       "      <th>B00L8QCVL6</th>\n",
       "      <th>B00LA6T0LS</th>\n",
       "      <th>B00LBZ1Z7K</th>\n",
       "      <th>B00LED02VY</th>\n",
       "      <th>B00LGN7Y3G</th>\n",
       "      <th>B00LGQ6HL8</th>\n",
       "      <th>B00LI4ZZO8</th>\n",
       "      <th>B00LKG1MC8</th>\n",
       "    </tr>\n",
       "    <tr>\n",
       "      <th>UserID</th>\n",
       "      <th></th>\n",
       "      <th></th>\n",
       "      <th></th>\n",
       "      <th></th>\n",
       "      <th></th>\n",
       "      <th></th>\n",
       "      <th></th>\n",
       "      <th></th>\n",
       "      <th></th>\n",
       "      <th></th>\n",
       "      <th></th>\n",
       "      <th></th>\n",
       "      <th></th>\n",
       "      <th></th>\n",
       "      <th></th>\n",
       "      <th></th>\n",
       "      <th></th>\n",
       "      <th></th>\n",
       "      <th></th>\n",
       "      <th></th>\n",
       "      <th></th>\n",
       "    </tr>\n",
       "  </thead>\n",
       "  <tbody>\n",
       "    <tr>\n",
       "      <th>A100UD67AHFODS</th>\n",
       "      <td>0.00</td>\n",
       "      <td>0.00</td>\n",
       "      <td>0.00</td>\n",
       "      <td>0.01</td>\n",
       "      <td>0.00</td>\n",
       "      <td>0.00</td>\n",
       "      <td>0.01</td>\n",
       "      <td>0.00</td>\n",
       "      <td>0.01</td>\n",
       "      <td>0.00</td>\n",
       "      <td>...</td>\n",
       "      <td>0.00</td>\n",
       "      <td>0.04</td>\n",
       "      <td>0.00</td>\n",
       "      <td>0.06</td>\n",
       "      <td>-0.00</td>\n",
       "      <td>0.01</td>\n",
       "      <td>0.00</td>\n",
       "      <td>0.13</td>\n",
       "      <td>0.06</td>\n",
       "      <td>0.02</td>\n",
       "    </tr>\n",
       "    <tr>\n",
       "      <th>A100WO06OQR8BQ</th>\n",
       "      <td>0.00</td>\n",
       "      <td>0.00</td>\n",
       "      <td>0.01</td>\n",
       "      <td>0.02</td>\n",
       "      <td>0.01</td>\n",
       "      <td>0.00</td>\n",
       "      <td>0.01</td>\n",
       "      <td>0.00</td>\n",
       "      <td>-0.00</td>\n",
       "      <td>0.00</td>\n",
       "      <td>...</td>\n",
       "      <td>0.00</td>\n",
       "      <td>0.03</td>\n",
       "      <td>0.00</td>\n",
       "      <td>0.00</td>\n",
       "      <td>-0.00</td>\n",
       "      <td>-0.00</td>\n",
       "      <td>0.00</td>\n",
       "      <td>-0.04</td>\n",
       "      <td>-0.01</td>\n",
       "      <td>0.00</td>\n",
       "    </tr>\n",
       "    <tr>\n",
       "      <th>A105S56ODHGJEK</th>\n",
       "      <td>-0.00</td>\n",
       "      <td>-0.00</td>\n",
       "      <td>0.00</td>\n",
       "      <td>0.02</td>\n",
       "      <td>0.01</td>\n",
       "      <td>-0.00</td>\n",
       "      <td>0.01</td>\n",
       "      <td>0.00</td>\n",
       "      <td>-0.01</td>\n",
       "      <td>-0.00</td>\n",
       "      <td>...</td>\n",
       "      <td>-0.00</td>\n",
       "      <td>0.01</td>\n",
       "      <td>-0.00</td>\n",
       "      <td>-0.02</td>\n",
       "      <td>0.02</td>\n",
       "      <td>-0.00</td>\n",
       "      <td>-0.00</td>\n",
       "      <td>-0.00</td>\n",
       "      <td>-0.01</td>\n",
       "      <td>-0.00</td>\n",
       "    </tr>\n",
       "    <tr>\n",
       "      <th>A105TOJ6LTVMBG</th>\n",
       "      <td>0.00</td>\n",
       "      <td>0.00</td>\n",
       "      <td>0.00</td>\n",
       "      <td>0.01</td>\n",
       "      <td>0.00</td>\n",
       "      <td>0.00</td>\n",
       "      <td>0.00</td>\n",
       "      <td>0.00</td>\n",
       "      <td>0.01</td>\n",
       "      <td>0.00</td>\n",
       "      <td>...</td>\n",
       "      <td>0.00</td>\n",
       "      <td>-0.00</td>\n",
       "      <td>0.00</td>\n",
       "      <td>-0.00</td>\n",
       "      <td>-0.00</td>\n",
       "      <td>0.00</td>\n",
       "      <td>0.00</td>\n",
       "      <td>-0.02</td>\n",
       "      <td>-0.01</td>\n",
       "      <td>0.00</td>\n",
       "    </tr>\n",
       "    <tr>\n",
       "      <th>A10AFVU66A79Y1</th>\n",
       "      <td>0.00</td>\n",
       "      <td>0.00</td>\n",
       "      <td>0.00</td>\n",
       "      <td>0.01</td>\n",
       "      <td>0.00</td>\n",
       "      <td>0.00</td>\n",
       "      <td>0.01</td>\n",
       "      <td>0.00</td>\n",
       "      <td>-0.00</td>\n",
       "      <td>0.00</td>\n",
       "      <td>...</td>\n",
       "      <td>0.00</td>\n",
       "      <td>-0.00</td>\n",
       "      <td>-0.00</td>\n",
       "      <td>-0.03</td>\n",
       "      <td>0.00</td>\n",
       "      <td>-0.00</td>\n",
       "      <td>0.00</td>\n",
       "      <td>-0.05</td>\n",
       "      <td>-0.02</td>\n",
       "      <td>-0.00</td>\n",
       "    </tr>\n",
       "  </tbody>\n",
       "</table>\n",
       "<p>5 rows × 48190 columns</p>\n",
       "</div>"
      ],
      "text/plain": [
       "ProductID       0594451647  0594481813  0970407998  0972683275  1400501466  \\\n",
       "UserID                                                                       \n",
       "A100UD67AHFODS        0.00        0.00        0.00        0.01        0.00   \n",
       "A100WO06OQR8BQ        0.00        0.00        0.01        0.02        0.01   \n",
       "A105S56ODHGJEK       -0.00       -0.00        0.00        0.02        0.01   \n",
       "A105TOJ6LTVMBG        0.00        0.00        0.00        0.01        0.00   \n",
       "A10AFVU66A79Y1        0.00        0.00        0.00        0.01        0.00   \n",
       "\n",
       "ProductID       1400501520  1400501776  1400532620  1400532655  140053271X  \\\n",
       "UserID                                                                       \n",
       "A100UD67AHFODS        0.00        0.01        0.00        0.01        0.00   \n",
       "A100WO06OQR8BQ        0.00        0.01        0.00       -0.00        0.00   \n",
       "A105S56ODHGJEK       -0.00        0.01        0.00       -0.01       -0.00   \n",
       "A105TOJ6LTVMBG        0.00        0.00        0.00        0.01        0.00   \n",
       "A10AFVU66A79Y1        0.00        0.01        0.00       -0.00        0.00   \n",
       "\n",
       "ProductID       ...  B00L5YZCCG  B00L8I6SFY  B00L8QCVL6  B00LA6T0LS  \\\n",
       "UserID          ...                                                   \n",
       "A100UD67AHFODS  ...        0.00        0.04        0.00        0.06   \n",
       "A100WO06OQR8BQ  ...        0.00        0.03        0.00        0.00   \n",
       "A105S56ODHGJEK  ...       -0.00        0.01       -0.00       -0.02   \n",
       "A105TOJ6LTVMBG  ...        0.00       -0.00        0.00       -0.00   \n",
       "A10AFVU66A79Y1  ...        0.00       -0.00       -0.00       -0.03   \n",
       "\n",
       "ProductID       B00LBZ1Z7K  B00LED02VY  B00LGN7Y3G  B00LGQ6HL8  B00LI4ZZO8  \\\n",
       "UserID                                                                       \n",
       "A100UD67AHFODS       -0.00        0.01        0.00        0.13        0.06   \n",
       "A100WO06OQR8BQ       -0.00       -0.00        0.00       -0.04       -0.01   \n",
       "A105S56ODHGJEK        0.02       -0.00       -0.00       -0.00       -0.01   \n",
       "A105TOJ6LTVMBG       -0.00        0.00        0.00       -0.02       -0.01   \n",
       "A10AFVU66A79Y1        0.00       -0.00        0.00       -0.05       -0.02   \n",
       "\n",
       "ProductID       B00LKG1MC8  \n",
       "UserID                      \n",
       "A100UD67AHFODS        0.02  \n",
       "A100WO06OQR8BQ        0.00  \n",
       "A105S56ODHGJEK       -0.00  \n",
       "A105TOJ6LTVMBG        0.00  \n",
       "A10AFVU66A79Y1       -0.00  \n",
       "\n",
       "[5 rows x 48190 columns]"
      ]
     },
     "execution_count": 38,
     "metadata": {
      "tags": []
     },
     "output_type": "execute_result"
    }
   ],
   "source": [
    "# Singular Value Decomposition\n",
    "U, sigma, Vt = svds(ratings_item, k = 10)\n",
    "sigma = np.diag(sigma)\n",
    "\n",
    "all_user_predicted_ratings = np.dot(np.dot(U, sigma), Vt)\n",
    "preds_df = pd.DataFrame(all_user_predicted_ratings, columns = ratings_item.columns, index = ratings_item.index) #predicted ratings\n",
    "preds_df.head()"
   ]
  },
  {
   "cell_type": "code",
   "execution_count": 39,
   "metadata": {
    "colab": {
     "base_uri": "https://localhost:8080/",
     "height": 34
    },
    "colab_type": "code",
    "id": "0GVCknGTpcZU",
    "outputId": "0c0cc651-964f-4afb-8919-d69f607ab119"
   },
   "outputs": [
    {
     "name": "stdout",
     "output_type": "stream",
     "text": [
      "Creating a function to recommend products with highest predicted ratings\n"
     ]
    }
   ],
   "source": [
    "\n",
    "# Recommend products with highest predicted ratings\n",
    "print('Creating a function to recommend products with highest predicted ratings');\n",
    "def recommend_items(user_id, ratings_item, preds_df, num_recommendations = 5):\n",
    "    try:\n",
    "        print('User has already rated products (from data in training set): {}'.format(train_data.loc[(train_data['UserID'] == user_id), 'ProductID'].nunique()))\n",
    "        print('Top 5 products from what\\'s already being rated: {}'.format(list(train_data[(train_data['UserID'] == user_id)].sort_values(by = 'Rating', ascending = False).head(5)['ProductID'])))\n",
    "    except:\n",
    "      print('There\\'s no data for the selected user in training set')\n",
    "    sorted_user_ratings = ratings_item.loc[user_id].sort_values(ascending = False)\n",
    "    \n",
    "    sorted_user_predictions = preds_df.loc[user_id].sort_values(ascending = False)\n",
    "    temp = pd.concat([sorted_user_ratings, sorted_user_predictions], axis = 1)\n",
    "    temp.index.name = 'Recommended Items'\n",
    "    temp.columns = ['user_ratings', 'user_predictions']\n",
    "    \n",
    "    temp = temp.loc[temp.user_ratings == 0]\n",
    "    temp = temp.sort_values('user_predictions', ascending = False)\n",
    "    print('\\nTop 5 recommendations for the user based on item-based collaborative filtering method')\n",
    "    display(temp.head(num_recommendations))\n",
    "    return temp.head(num_recommendations).index.tolist()"
   ]
  },
  {
   "cell_type": "code",
   "execution_count": 40,
   "metadata": {
    "colab": {
     "base_uri": "https://localhost:8080/",
     "height": 725
    },
    "colab_type": "code",
    "id": "f1zofJ2lpiTr",
    "outputId": "02b5de4d-35e4-4a89-e89d-334cb90a1efc"
   },
   "outputs": [
    {
     "name": "stdout",
     "output_type": "stream",
     "text": [
      "Get top - K ( K = 5) recommendations.\n",
      "Since our goal is to recommend new products to each user based on his/her habits, we will recommend 5 new products.\n",
      "--------------------------------------------------------------------------------\n",
      "\n",
      "Make recommendation for the user id selected from the testset = \"A11D1KHM7DVOQK\"\n",
      "User has already rated products (from data in training set): 77\n",
      "Top 5 products from what's already being rated: ['B0009H9PZU', 'B0006B486K', 'B00009W3DS', 'B0009E5YNA', 'B00005V54U']\n",
      "\n",
      "Top 5 recommendations for the user based on item-based collaborative filtering method\n"
     ]
    },
    {
     "data": {
      "text/html": [
       "<div>\n",
       "<style scoped>\n",
       "    .dataframe tbody tr th:only-of-type {\n",
       "        vertical-align: middle;\n",
       "    }\n",
       "\n",
       "    .dataframe tbody tr th {\n",
       "        vertical-align: top;\n",
       "    }\n",
       "\n",
       "    .dataframe thead th {\n",
       "        text-align: right;\n",
       "    }\n",
       "</style>\n",
       "<table border=\"1\" class=\"dataframe\">\n",
       "  <thead>\n",
       "    <tr style=\"text-align: right;\">\n",
       "      <th></th>\n",
       "      <th>user_ratings</th>\n",
       "      <th>user_predictions</th>\n",
       "    </tr>\n",
       "    <tr>\n",
       "      <th>Recommended Items</th>\n",
       "      <th></th>\n",
       "      <th></th>\n",
       "    </tr>\n",
       "  </thead>\n",
       "  <tbody>\n",
       "    <tr>\n",
       "      <th>B007WTAJTO</th>\n",
       "      <td>0.00</td>\n",
       "      <td>0.07</td>\n",
       "    </tr>\n",
       "    <tr>\n",
       "      <th>B005CT56F8</th>\n",
       "      <td>0.00</td>\n",
       "      <td>0.06</td>\n",
       "    </tr>\n",
       "    <tr>\n",
       "      <th>B00829THK0</th>\n",
       "      <td>0.00</td>\n",
       "      <td>0.06</td>\n",
       "    </tr>\n",
       "    <tr>\n",
       "      <th>B003ZSHNGS</th>\n",
       "      <td>0.00</td>\n",
       "      <td>0.06</td>\n",
       "    </tr>\n",
       "    <tr>\n",
       "      <th>B00825BZUY</th>\n",
       "      <td>0.00</td>\n",
       "      <td>0.06</td>\n",
       "    </tr>\n",
       "  </tbody>\n",
       "</table>\n",
       "</div>"
      ],
      "text/plain": [
       "                   user_ratings  user_predictions\n",
       "Recommended Items                                \n",
       "B007WTAJTO                 0.00              0.07\n",
       "B005CT56F8                 0.00              0.06\n",
       "B00829THK0                 0.00              0.06\n",
       "B003ZSHNGS                 0.00              0.06\n",
       "B00825BZUY                 0.00              0.06"
      ]
     },
     "metadata": {
      "tags": []
     },
     "output_type": "display_data"
    },
    {
     "name": "stdout",
     "output_type": "stream",
     "text": [
      "\n",
      "\n",
      "Make recommendation for the user id selected from the testset = \"A149RNR5RH19YY\"\n",
      "User has already rated products (from data in training set): 97\n",
      "Top 5 products from what's already being rated: ['B00000JBAM', 'B000WR0CKE', 'B000BTL0OA', 'B0015AM30Y', 'B0000DIET2']\n",
      "\n",
      "Top 5 recommendations for the user based on item-based collaborative filtering method\n"
     ]
    },
    {
     "data": {
      "text/html": [
       "<div>\n",
       "<style scoped>\n",
       "    .dataframe tbody tr th:only-of-type {\n",
       "        vertical-align: middle;\n",
       "    }\n",
       "\n",
       "    .dataframe tbody tr th {\n",
       "        vertical-align: top;\n",
       "    }\n",
       "\n",
       "    .dataframe thead th {\n",
       "        text-align: right;\n",
       "    }\n",
       "</style>\n",
       "<table border=\"1\" class=\"dataframe\">\n",
       "  <thead>\n",
       "    <tr style=\"text-align: right;\">\n",
       "      <th></th>\n",
       "      <th>user_ratings</th>\n",
       "      <th>user_predictions</th>\n",
       "    </tr>\n",
       "    <tr>\n",
       "      <th>Recommended Items</th>\n",
       "      <th></th>\n",
       "      <th></th>\n",
       "    </tr>\n",
       "  </thead>\n",
       "  <tbody>\n",
       "    <tr>\n",
       "      <th>B00829THK0</th>\n",
       "      <td>0.00</td>\n",
       "      <td>0.33</td>\n",
       "    </tr>\n",
       "    <tr>\n",
       "      <th>B007WTAJTO</th>\n",
       "      <td>0.00</td>\n",
       "      <td>0.32</td>\n",
       "    </tr>\n",
       "    <tr>\n",
       "      <th>B00829TIEK</th>\n",
       "      <td>0.00</td>\n",
       "      <td>0.28</td>\n",
       "    </tr>\n",
       "    <tr>\n",
       "      <th>B002R5AM7C</th>\n",
       "      <td>0.00</td>\n",
       "      <td>0.27</td>\n",
       "    </tr>\n",
       "    <tr>\n",
       "      <th>B003ES5ZUU</th>\n",
       "      <td>0.00</td>\n",
       "      <td>0.27</td>\n",
       "    </tr>\n",
       "  </tbody>\n",
       "</table>\n",
       "</div>"
      ],
      "text/plain": [
       "                   user_ratings  user_predictions\n",
       "Recommended Items                                \n",
       "B00829THK0                 0.00              0.33\n",
       "B007WTAJTO                 0.00              0.32\n",
       "B00829TIEK                 0.00              0.28\n",
       "B002R5AM7C                 0.00              0.27\n",
       "B003ES5ZUU                 0.00              0.27"
      ]
     },
     "metadata": {
      "tags": []
     },
     "output_type": "display_data"
    }
   ],
   "source": [
    "print('Get top - K ( K = 5) recommendations.')\n",
    "print('Since our goal is to recommend new products to each user based on his/her habits, we will recommend 5 new products.'); print('--'*40)\n",
    "result = {}\n",
    "\n",
    "user_id = \"A11D1KHM7DVOQK\"\n",
    "print(f'\\nMake recommendation for the user id selected from the testset = \"{user_id}\"')\n",
    "result[user_id] = recommend_items(user_id, ratings_item, preds_df)\n",
    "\n",
    "user_id = \"A149RNR5RH19YY\"\n",
    "print(f'\\n\\nMake recommendation for the user id selected from the testset = \"{user_id}\"')\n",
    "result[user_id] = recommend_items(user_id, ratings_item, preds_df)"
   ]
  },
  {
   "cell_type": "code",
   "execution_count": 41,
   "metadata": {
    "colab": {},
    "colab_type": "code",
    "id": "_aDQipqOpnrv"
   },
   "outputs": [],
   "source": [
    "compare_dict['SVD Item-based Collaborative Filtering'] = result"
   ]
  },
  {
   "cell_type": "code",
   "execution_count": 42,
   "metadata": {
    "colab": {
     "base_uri": "https://localhost:8080/",
     "height": 68
    },
    "colab_type": "code",
    "id": "3xrzcif7pr_U",
    "outputId": "9d8a38db-79fd-41c6-9e51-57f7948c03c0"
   },
   "outputs": [
    {
     "name": "stdout",
     "output_type": "stream",
     "text": [
      "Evaluating SVD for Item-based Collaborative Filtering\n",
      "------------------------------------------------------------------------------------------------------------------------\n",
      "RMSE OF ITEM BASED COLLABORATIVE FILTERING USING MATRIX FACTORIZATION METHOD (SVD): 0.0033\n"
     ]
    }
   ],
   "source": [
    "print('Evaluating SVD for Item-based Collaborative Filtering'); print('--'*60)\n",
    "rmse_df = pd.concat([ratings_item.mean(), preds_df.mean()], axis = 1)\n",
    "rmse_df.columns = ['Avg_actual_ratings', 'Avg_predicted_ratings']\n",
    "RMSE = round((((rmse_df['Avg_actual_ratings'] - rmse_df['Avg_predicted_ratings']) ** 2).mean() ** 0.5), 4)\n",
    "print('RMSE OF ITEM BASED COLLABORATIVE FILTERING USING MATRIX FACTORIZATION METHOD (SVD): {}'.format(RMSE))"
   ]
  },
  {
   "cell_type": "markdown",
   "metadata": {
    "colab_type": "text",
    "id": "XNu7c7Japzwz"
   },
   "source": [
    "##### **Observation 5 - Item Based Collaborative Filtering -- SVD**\n",
    "Above we evaluated SVD for item-based collaborative filtering and it can be seen that the RMSE of SVD model 0.0033."
   ]
  },
  {
   "cell_type": "code",
   "execution_count": 43,
   "metadata": {
    "colab": {},
    "colab_type": "code",
    "id": "UxWNKFvpp2xE"
   },
   "outputs": [],
   "source": [
    "del (RMSE, U, sigma, Vt, all_user_predicted_ratings, given_num_of_ratings, possible_num_of_ratings, result, rmse_df, \n",
    "     density, preds_df, recommend_items, user_id)"
   ]
  },
  {
   "cell_type": "markdown",
   "metadata": {
    "colab_type": "text",
    "id": "W94bGYGIqEvH"
   },
   "source": [
    "**Product Similarity based on Sklearn Nearest Neighbor**\n",
    "\n"
   ]
  },
  {
   "cell_type": "code",
   "execution_count": 44,
   "metadata": {
    "colab": {
     "base_uri": "https://localhost:8080/",
     "height": 170
    },
    "colab_type": "code",
    "id": "Ms0jsci8qG36",
    "outputId": "fd01ebc4-c0d7-4e10-cf54-aff83a50f390"
   },
   "outputs": [
    {
     "name": "stdout",
     "output_type": "stream",
     "text": [
      "Product similarity based on Sklearn Nearest Neighbor\n",
      "--------------------------------------------------------------------------------\n",
      "Recommendations for B008R79VMQ:\n",
      "\n",
      "1: B0017S37IG, with distance of 0.3845425451033364:\n",
      "2: B003VVYL46, with distance of 0.3845425451033364:\n",
      "3: B0016VA4L2, with distance of 0.3845425451033364:\n",
      "4: B0014KO1M8, with distance of 0.3845425451033364:\n",
      "5: B007UE2SPE, with distance of 0.3845425451033364:\n"
     ]
    }
   ],
   "source": [
    "\n",
    "print('Product similarity based on Sklearn Nearest Neighbor'); print('--'*40)\n",
    "k = 5\n",
    "df_knn = ratings.pivot(index = 'ProductID', columns = 'UserID', values = 'Rating').fillna(0)\n",
    "df_knn_matrix = csr_matrix(df_knn.values)\n",
    "\n",
    "model_knn = NearestNeighbors(metric = 'cosine', algorithm = 'brute', n_neighbors = k)\n",
    "model_knn.fit(df_knn_matrix)\n",
    "\n",
    "query_item = np.random.choice(df_knn.shape[0])\n",
    "query_user = np.random.choice(df_knn.shape[1])\n",
    "distances, indices = model_knn.kneighbors(df_knn.iloc[query_item, :].values.reshape(1, -1), n_neighbors = k+1)\n",
    "\n",
    "for i in range(0, len(distances.flatten())):\n",
    "  if i == 0:\n",
    "    print('Recommendations for {0}:\\n'.format(df_knn.index[query_item]))\n",
    "  else:\n",
    "    print('{0}: {1}, with distance of {2}:'.format(i, df_knn.index[indices.flatten()[i]], distances.flatten()[i]))"
   ]
  },
  {
   "cell_type": "markdown",
   "metadata": {
    "colab_type": "text",
    "id": "Jb9NkSDwqZDo"
   },
   "source": [
    "**Model based Collaborative Filtering: k-NN**"
   ]
  },
  {
   "cell_type": "code",
   "execution_count": 45,
   "metadata": {
    "colab": {
     "base_uri": "https://localhost:8080/",
     "height": 119
    },
    "colab_type": "code",
    "id": "KGbnNvA1qUlz",
    "outputId": "9ed29b73-05d0-45bd-bcec-a75272b573ff"
   },
   "outputs": [
    {
     "name": "stdout",
     "output_type": "stream",
     "text": [
      "Further reducing the number of users\n",
      "Earlier we had considered users those who rated >=50 products, now to avoid memory issues let's take users those who've rated >100 products\n",
      "--------------------------------------------------------------------------------\n",
      "Number of rows 43309 and number of columns 6 in filtered dataframe\n",
      "Number of unique USERS in further filtered ratings dataframe =  280\n",
      "Number of unique PRODUCTS in further filteredratings dataframe =  22267\n"
     ]
    }
   ],
   "source": [
    "\n",
    "print('Further reducing the number of users'); \n",
    "print('Earlier we had considered users those who rated >=50 products, now to avoid memory issues let\\'s take users those who\\'ve rated >100 products')\n",
    "print('--'*40)\n",
    "\n",
    "ratings_df = ratings_df[ratings_df['UserIDCounts'] > 100]\n",
    "print(f'Number of rows {ratings_df.shape[0]} and number of columns {ratings_df.shape[1]} in filtered dataframe')\n",
    "print('Number of unique USERS in further filtered ratings dataframe = ', ratings_df['UserID'].nunique())\n",
    "print('Number of unique PRODUCTS in further filteredratings dataframe = ', ratings_df['ProductID'].nunique())\n",
    "\n",
    "ratings = ratings_df[['UserID', 'ProductID', 'Rating']]"
   ]
  },
  {
   "cell_type": "code",
   "execution_count": 46,
   "metadata": {
    "colab": {
     "base_uri": "https://localhost:8080/",
     "height": 34
    },
    "colab_type": "code",
    "id": "aTPGhwgoqgcc",
    "outputId": "736892cf-9884-4132-e0fe-b5b09205753d"
   },
   "outputs": [
    {
     "data": {
      "text/plain": [
       "101"
      ]
     },
     "execution_count": 46,
     "metadata": {
      "tags": []
     },
     "output_type": "execute_result"
    }
   ],
   "source": [
    "ratings['UserID'].value_counts().min()"
   ]
  },
  {
   "cell_type": "code",
   "execution_count": 47,
   "metadata": {
    "colab": {
     "base_uri": "https://localhost:8080/",
     "height": 51
    },
    "colab_type": "code",
    "id": "bVtymP6wqjbz",
    "outputId": "9b24ae56-62f1-42fe-d9c1-156fe775457f"
   },
   "outputs": [
    {
     "data": {
      "text/plain": [
       "(30316, 3)"
      ]
     },
     "metadata": {
      "tags": []
     },
     "output_type": "display_data"
    },
    {
     "data": {
      "text/plain": [
       "(12993, 3)"
      ]
     },
     "metadata": {
      "tags": []
     },
     "output_type": "display_data"
    }
   ],
   "source": [
    "train_data, test_data = train_test_split(ratings, test_size = 0.30, random_state = random_state)\n",
    "display(train_data.shape, test_data.shape)\n"
   ]
  },
  {
   "cell_type": "code",
   "execution_count": 48,
   "metadata": {
    "colab": {
     "base_uri": "https://localhost:8080/",
     "height": 51
    },
    "colab_type": "code",
    "id": "i7hWxWH2qlPR",
    "outputId": "d9be5a0a-e1f4-47c8-aded-ffcf6348ff92"
   },
   "outputs": [
    {
     "name": "stdout",
     "output_type": "stream",
     "text": [
      "Getting the trainset and testset ready for recommender to be used\n",
      "--------------------------------------------------------------------------------\n"
     ]
    }
   ],
   "source": [
    "\n",
    "print('Getting the trainset and testset ready for recommender to be used'); print('--'*40)\n",
    "reader = Reader(rating_scale = (0, 5))\n",
    "data = Dataset.load_from_df(ratings[['UserID', 'ProductID', 'Rating']], reader)\n",
    "trainset = Dataset.load_from_df(train_data[['UserID', 'ProductID', 'Rating']], reader); \n",
    "testset = Dataset.load_from_df(test_data[['UserID', 'ProductID', 'Rating']], reader);"
   ]
  },
  {
   "cell_type": "code",
   "execution_count": 49,
   "metadata": {
    "colab": {
     "base_uri": "https://localhost:8080/",
     "height": 136
    },
    "colab_type": "code",
    "id": "JZOKsj79qnb-",
    "outputId": "2fc4b4a0-832f-4a27-a926-51d5cc31ea53"
   },
   "outputs": [
    {
     "name": "stdout",
     "output_type": "stream",
     "text": [
      "ITEM BASED COLLABORATIVE FILTERING USING k-NN INSPIRED ALGOS\n",
      "Grid Search across parameter grid to find best parameters using KNNBasic algorithm\n",
      "--------------------------------------------------------------------------------\n",
      "1.0315383659842756\n",
      "{'k': 5, 'sim_options': {'name': 'pearson_baseline', 'user_based': False}, 'verbose': False}\n",
      "CPU times: user 2min 40s, sys: 7.22 s, total: 2min 47s\n",
      "Wall time: 2min 47s\n"
     ]
    }
   ],
   "source": [
    "%%time\n",
    "print('ITEM BASED COLLABORATIVE FILTERING USING k-NN INSPIRED ALGOS')\n",
    "print('Grid Search across parameter grid to find best parameters using KNNBasic algorithm'); print('--'*40)\n",
    "param_grid_KNNBasic = {'k': [3, 5, 10], 'sim_options': {'name': ['pearson_baseline', 'cosine'], 'user_based': [False]}, 'verbose': [False]}\n",
    "\n",
    "gs_KNNBasic = GridSearchCV(KNNBasic, param_grid_KNNBasic, measures = ['rmse', 'mae'], cv = 3)\n",
    "gs_KNNBasic.fit(trainset)\n",
    "print(gs_KNNBasic.best_score['rmse'])\n",
    "print(gs_KNNBasic.best_params['rmse'])"
   ]
  },
  {
   "cell_type": "code",
   "execution_count": 50,
   "metadata": {
    "colab": {
     "base_uri": "https://localhost:8080/",
     "height": 136
    },
    "colab_type": "code",
    "id": "GODmDFsOqpT4",
    "outputId": "f5292e6e-49e1-4cdf-81ec-25b3c23c59ae"
   },
   "outputs": [
    {
     "name": "stdout",
     "output_type": "stream",
     "text": [
      "ITEM BASED COLLABORATIVE FILTERING USING k-NN INSPIRED ALGOS\n",
      "Grid Search across parameter grid to find best parameters using KNNWithMeans algorithm\n",
      "--------------------------------------------------------------------------------\n",
      "1.079754480905722\n",
      "{'k': 10, 'sim_options': {'name': 'cosine', 'user_based': False}, 'verbose': False}\n",
      "CPU times: user 2min 38s, sys: 1.57 s, total: 2min 39s\n",
      "Wall time: 2min 39s\n"
     ]
    }
   ],
   "source": [
    "%%time\n",
    "print('ITEM BASED COLLABORATIVE FILTERING USING k-NN INSPIRED ALGOS')\n",
    "print('Grid Search across parameter grid to find best parameters using KNNWithMeans algorithm'); print('--'*40)\n",
    "param_grid_KNNWithMeans = {'k': [3, 5, 10], 'sim_options': {'name': ['pearson_baseline', 'cosine'], 'user_based': [False]}, 'verbose': [False]}\n",
    "\n",
    "gs_KNNWithMeans = GridSearchCV(KNNWithMeans, param_grid_KNNWithMeans, measures = ['rmse', 'mae'], cv = 3)\n",
    "gs_KNNWithMeans.fit(trainset)\n",
    "print(gs_KNNWithMeans.best_score['rmse'])\n",
    "print(gs_KNNWithMeans.best_params['rmse'])"
   ]
  },
  {
   "cell_type": "code",
   "execution_count": 51,
   "metadata": {
    "colab": {
     "base_uri": "https://localhost:8080/",
     "height": 136
    },
    "colab_type": "code",
    "id": "fWWC2e0Rqw8S",
    "outputId": "56d74d81-430b-4682-eed3-4e8dac756e1b"
   },
   "outputs": [
    {
     "name": "stdout",
     "output_type": "stream",
     "text": [
      "ITEM BASED COLLABORATIVE FILTERING USING k-NN INSPIRED ALGOS\n",
      "Grid Search across parameter grid to find best parameters using KNNWithZScore algorithm\n",
      "--------------------------------------------------------------------------------\n",
      "1.0836895583873687\n",
      "{'k': 10, 'sim_options': {'name': 'pearson_baseline', 'user_based': False}, 'verbose': False}\n",
      "CPU times: user 3min 9s, sys: 1.56 s, total: 3min 11s\n",
      "Wall time: 3min 10s\n"
     ]
    }
   ],
   "source": [
    "%%time\n",
    "print('ITEM BASED COLLABORATIVE FILTERING USING k-NN INSPIRED ALGOS')\n",
    "print('Grid Search across parameter grid to find best parameters using KNNWithZScore algorithm'); print('--'*40)\n",
    "param_grid_KNNWithZScore = {'k': [3, 5, 10], 'sim_options': {'name': ['pearson_baseline', 'cosine'], 'user_based': [False]}, 'verbose': [False]}\n",
    "\n",
    "gs_KNNWithZScore = GridSearchCV(KNNWithZScore, param_grid_KNNWithZScore, measures = ['rmse', 'mae'], cv = 3)\n",
    "gs_KNNWithZScore.fit(trainset)\n",
    "print(gs_KNNWithZScore.best_score['rmse'])\n",
    "print(gs_KNNWithZScore.best_params['rmse'])"
   ]
  },
  {
   "cell_type": "code",
   "execution_count": 52,
   "metadata": {
    "colab": {
     "base_uri": "https://localhost:8080/",
     "height": 136
    },
    "colab_type": "code",
    "id": "GpWETuVfqyCV",
    "outputId": "1d294815-3a34-4bbc-f318-d0150562953d"
   },
   "outputs": [
    {
     "name": "stdout",
     "output_type": "stream",
     "text": [
      "ITEM BASED COLLABORATIVE FILTERING USING k-NN INSPIRED ALGOS\n",
      "Grid Search across parameter grid to find best parameters using KNNBaseline algorithm\n",
      "--------------------------------------------------------------------------------\n",
      "0.9655170623803802\n",
      "{'bsl_options': {'method': 'als', 'reg': 1}, 'k': 5, 'sim_options': {'name': 'pearson_baseline', 'user_based': False}, 'verbose': False}\n",
      "CPU times: user 10min 30s, sys: 6.24 s, total: 10min 36s\n",
      "Wall time: 10min 35s\n"
     ]
    }
   ],
   "source": [
    "%%time\n",
    "print('ITEM BASED COLLABORATIVE FILTERING USING k-NN INSPIRED ALGOS')\n",
    "print('Grid Search across parameter grid to find best parameters using KNNBaseline algorithm'); print('--'*40)\n",
    "param_grid_KNNBaseline = {'bsl_options': {'method': ['als', 'sgd'], 'reg': [1, 2]}, 'k': [2, 3, 5], \n",
    "                          'sim_options': {'name': ['pearson_baseline', 'cosine'], 'user_based': [False]},\n",
    "                          'verbose': [False]}\n",
    "\n",
    "gs_KNNBaseline = GridSearchCV(KNNBaseline, param_grid_KNNBaseline, measures = ['rmse', 'mae'], cv = 3)\n",
    "gs_KNNBaseline.fit(trainset)\n",
    "print(gs_KNNBaseline.best_score['rmse'])\n",
    "print(gs_KNNBaseline.best_params['rmse'])"
   ]
  },
  {
   "cell_type": "code",
   "execution_count": 53,
   "metadata": {
    "colab": {
     "base_uri": "https://localhost:8080/",
     "height": 34
    },
    "colab_type": "code",
    "id": "jWSE1aNjq3ck",
    "outputId": "329a70e1-305d-43c6-d35c-52f8f1cfb56c"
   },
   "outputs": [
    {
     "data": {
      "text/plain": [
       "24"
      ]
     },
     "execution_count": 53,
     "metadata": {
      "tags": []
     },
     "output_type": "execute_result"
    }
   ],
   "source": [
    "del param_grid_KNNBasic, param_grid_KNNWithMeans, param_grid_KNNWithZScore, gs_KNNBasic, gs_KNNWithMeans, gs_KNNWithZScore\n",
    "gc.collect()"
   ]
  },
  {
   "cell_type": "markdown",
   "metadata": {
    "colab_type": "text",
    "id": "b7xKUm_Iq75h"
   },
   "source": [
    "**Observation 6 - Algorithm choosen for Model based (Item) Collaborative**\n",
    "<BR>Filtering using k-NN inspired method Above we evaluated different k-NN inspired algorithms for item-based collaborative filtering. It can be seen that KNNBaseline algorithm gives the lowest RMSE of ~0.966.\n",
    "<BR>k-fold cross-validate KNNBaseline algorithm using the best parameters, to see if there's any improvement in the RMSE."
   ]
  },
  {
   "cell_type": "code",
   "execution_count": 54,
   "metadata": {
    "colab": {
     "base_uri": "https://localhost:8080/",
     "height": 170
    },
    "colab_type": "code",
    "id": "z9vyd80crItS",
    "outputId": "84e1fd3d-b287-43ec-cb5f-089f3526f90d"
   },
   "outputs": [
    {
     "name": "stdout",
     "output_type": "stream",
     "text": [
      "ITEM BASED COLLABORATIVE FILTERING USING k-NN INSPIRED ALGOS\n",
      "2-Fold cross validation using KNNBaseline and with best parameters identified during grid search\n",
      "--------------------------------------------------------------------------------\n",
      "RMSE: 0.9638\n",
      "RMSE: 0.9672\n",
      "--------------------------------------------------------------------------------\n",
      "RMSE OF ITEM BASED COLLABORATIVE FILTERING USING k-NN INSPIRED ALGORITHM AND 2-FOLD CROSS VALIDATION 0.9655\n",
      "CPU times: user 22.1 s, sys: 7.51 s, total: 29.6 s\n",
      "Wall time: 39.6 s\n"
     ]
    }
   ],
   "source": [
    "%%time\n",
    "print('ITEM BASED COLLABORATIVE FILTERING USING k-NN INSPIRED ALGOS')\n",
    "print('2-Fold cross validation using KNNBaseline and with best parameters identified during grid search'); print('--'*40)\n",
    "kf = KFold(n_splits = 2)\n",
    "algo = KNNBaseline(**gs_KNNBaseline.best_params['rmse'])\n",
    "rmse_scores = []\n",
    "\n",
    "for train_, test_ in kf.split(data):\n",
    "    algo.fit(train_)\n",
    "    predictions = algo.test(test_)\n",
    "    rmse = round(accuracy.rmse(predictions, verbose = True), 4)\n",
    "    rmse_scores.append(rmse)\n",
    "\n",
    "    dump.dump('./dump_KNNBaseline_Item', predictions, algo)\n",
    "\n",
    "print('--'*40)\n",
    "print(f'RMSE OF ITEM BASED COLLABORATIVE FILTERING USING k-NN INSPIRED ALGORITHM AND 2-FOLD CROSS VALIDATION {round(np.mean(rmse_scores), 4)}')"
   ]
  },
  {
   "cell_type": "code",
   "execution_count": 55,
   "metadata": {
    "colab": {
     "base_uri": "https://localhost:8080/",
     "height": 204
    },
    "colab_type": "code",
    "id": "UdEtv4AqrXxV",
    "outputId": "699d8172-f5e7-4130-96ac-4410d07dd51c"
   },
   "outputs": [
    {
     "data": {
      "text/html": [
       "<div>\n",
       "<style scoped>\n",
       "    .dataframe tbody tr th:only-of-type {\n",
       "        vertical-align: middle;\n",
       "    }\n",
       "\n",
       "    .dataframe tbody tr th {\n",
       "        vertical-align: top;\n",
       "    }\n",
       "\n",
       "    .dataframe thead th {\n",
       "        text-align: right;\n",
       "    }\n",
       "</style>\n",
       "<table border=\"1\" class=\"dataframe\">\n",
       "  <thead>\n",
       "    <tr style=\"text-align: right;\">\n",
       "      <th></th>\n",
       "      <th>UserID</th>\n",
       "      <th>ProductID</th>\n",
       "      <th>ActualRating</th>\n",
       "      <th>EstRating</th>\n",
       "      <th>Details</th>\n",
       "      <th>Error</th>\n",
       "    </tr>\n",
       "  </thead>\n",
       "  <tbody>\n",
       "    <tr>\n",
       "      <th>11142</th>\n",
       "      <td>A2HRHF83I3NDGT</td>\n",
       "      <td>B005EOWBHC</td>\n",
       "      <td>5.00</td>\n",
       "      <td>5.00</td>\n",
       "      <td>{'actual_k': 1, 'was_impossible': False}</td>\n",
       "      <td>0.00</td>\n",
       "    </tr>\n",
       "    <tr>\n",
       "      <th>13565</th>\n",
       "      <td>A2IFGGXG3YV3Y6</td>\n",
       "      <td>B003ES5ZUU</td>\n",
       "      <td>5.00</td>\n",
       "      <td>5.00</td>\n",
       "      <td>{'actual_k': 2, 'was_impossible': False}</td>\n",
       "      <td>0.00</td>\n",
       "    </tr>\n",
       "    <tr>\n",
       "      <th>13620</th>\n",
       "      <td>A1G650TTTHEAL5</td>\n",
       "      <td>B00ENZRS76</td>\n",
       "      <td>5.00</td>\n",
       "      <td>5.00</td>\n",
       "      <td>{'actual_k': 5, 'was_impossible': False}</td>\n",
       "      <td>0.00</td>\n",
       "    </tr>\n",
       "    <tr>\n",
       "      <th>13777</th>\n",
       "      <td>A2B7BUH8834Y6M</td>\n",
       "      <td>B004CLYEFK</td>\n",
       "      <td>5.00</td>\n",
       "      <td>5.00</td>\n",
       "      <td>{'actual_k': 1, 'was_impossible': False}</td>\n",
       "      <td>0.00</td>\n",
       "    </tr>\n",
       "    <tr>\n",
       "      <th>359</th>\n",
       "      <td>A3V5F050GVZ56Q</td>\n",
       "      <td>B00F6E4HXG</td>\n",
       "      <td>5.00</td>\n",
       "      <td>5.00</td>\n",
       "      <td>{'actual_k': 2, 'was_impossible': False}</td>\n",
       "      <td>0.00</td>\n",
       "    </tr>\n",
       "  </tbody>\n",
       "</table>\n",
       "</div>"
      ],
      "text/plain": [
       "               UserID   ProductID  ActualRating  EstRating  \\\n",
       "11142  A2HRHF83I3NDGT  B005EOWBHC          5.00       5.00   \n",
       "13565  A2IFGGXG3YV3Y6  B003ES5ZUU          5.00       5.00   \n",
       "13620  A1G650TTTHEAL5  B00ENZRS76          5.00       5.00   \n",
       "13777  A2B7BUH8834Y6M  B004CLYEFK          5.00       5.00   \n",
       "359    A3V5F050GVZ56Q  B00F6E4HXG          5.00       5.00   \n",
       "\n",
       "                                        Details  Error  \n",
       "11142  {'actual_k': 1, 'was_impossible': False}   0.00  \n",
       "13565  {'actual_k': 2, 'was_impossible': False}   0.00  \n",
       "13620  {'actual_k': 5, 'was_impossible': False}   0.00  \n",
       "13777  {'actual_k': 1, 'was_impossible': False}   0.00  \n",
       "359    {'actual_k': 2, 'was_impossible': False}   0.00  "
      ]
     },
     "metadata": {
      "tags": []
     },
     "output_type": "display_data"
    }
   ],
   "source": [
    "predictions, algo = dump.load('./dump_KNNBaseline_Item')\n",
    "df_user = pd.DataFrame(predictions, columns = ['UserID', 'ProductID', 'ActualRating', 'EstRating', 'Details'])\n",
    "df_user['Error'] = abs(df_user['EstRating'] - df_user['ActualRating'])\n",
    "df_user.sort_values('Error', inplace = True, ascending = True)\n",
    "\n",
    "display(df_user.head())"
   ]
  },
  {
   "cell_type": "code",
   "execution_count": 56,
   "metadata": {
    "colab": {
     "base_uri": "https://localhost:8080/",
     "height": 522
    },
    "colab_type": "code",
    "id": "FNNMgBjxrchk",
    "outputId": "7ecefa92-9630-4e31-e959-7610d4ee1ddf"
   },
   "outputs": [
    {
     "name": "stdout",
     "output_type": "stream",
     "text": [
      "Actual vs Prediction Comparison\n",
      "--------------------------------------------------------------------------------\n"
     ]
    },
    {
     "data": {
      "image/png": "[encoded data removed]",
      "text/plain": [
       "<Figure size 1080x518.4 with 1 Axes>"
      ]
     },
     "metadata": {
      "needs_background": "light",
      "tags": []
     },
     "output_type": "display_data"
    }
   ],
   "source": [
    "# Actual vs Prediction Comparison\n",
    "print('Actual vs Prediction Comparison'); print('--'*40)\n",
    "\n",
    "fig, ax = plt.subplots(figsize = (15, 7.2))\n",
    "fig.suptitle('Actual vs Prediction Comparison', fontsize = 14)\n",
    "df_user['EstRating'].plot.hist(bins = 25, alpha = 0.8)\n",
    "df_user['ActualRating'].plot.hist(bins = 25, alpha = 0.8)\n",
    "ax.legend(['Predictions', 'Actual'])\n",
    "plt.show()"
   ]
  },
  {
   "cell_type": "code",
   "execution_count": 57,
   "metadata": {
    "colab": {
     "base_uri": "https://localhost:8080/",
     "height": 255
    },
    "colab_type": "code",
    "id": "ZYB2fTWdrgUm",
    "outputId": "a12e3890-6936-4d95-dd30-75d855aa444e"
   },
   "outputs": [
    {
     "name": "stdout",
     "output_type": "stream",
     "text": [
      "Get top - K ( K = 5) recommendations.\n",
      "Since our goal is to recommend new products to each user based on his/her habits, we will recommend 5 new products.\n",
      "--------------------------------------------------------------------------------\n",
      "A check on what has the user liked in past (based on data available in training set, if there is) and making recommendations\n",
      "-------------------------------------------------------------------------------- \n",
      "\n",
      "User \"A11D1KHM7DVOQK\" has already rated products (from data in training set): 76\n",
      "Top 5 products from what's already being rated: ['B00005V54U', 'B0001LD00A', 'B00061IYFQ', 'B0002I5RHG', 'B0009FUFPG']\n",
      "Top 5 recommendations for the user are: ['B00008ZPNR', 'B00022TN9A', 'B0001FV35U', 'B0007Y79AI', 'B0000E1717']\n",
      "\n",
      "\n",
      "User \"A149RNR5RH19YY\" has already rated products (from data in training set): 95\n",
      "Top 5 products from what's already being rated: ['B000BTL0OA', 'B00003006E', 'B001OOZ1X2', 'B000062TTF', 'B00385XTWA']\n",
      "Top 5 recommendations for the user are: ['B00003006E', 'B001F51G16', 'B000AMLXHW', 'B00001P4ZH', 'B000089GN3']\n"
     ]
    }
   ],
   "source": [
    "# Query top 5 recommendations for specific UserID\n",
    "print('Get top - K ( K = 5) recommendations.')\n",
    "print('Since our goal is to recommend new products to each user based on his/her habits, we will recommend 5 new products.'); print('--'*40)\n",
    "result = {}\n",
    "\n",
    "def query_user(user_id):\n",
    "  try:\n",
    "    print('User \"{}\" has already rated products (from data in training set): {}'.format(user_id, train_data.loc[(train_data['UserID'] == user_id), 'ProductID'].nunique()))\n",
    "    print('Top 5 products from what\\'s already being rated: {}'.format(list(train_data[(train_data['UserID'] == user_id)].sort_values(by = 'Rating', ascending = False).head(5)['ProductID'])))\n",
    "  except:\n",
    "    print('There\\'s no data for the selected user in training set')\n",
    "  print('Top 5 recommendations for the user are: {}'.format(list(df_user[(df_user['UserID'] == user_id)].sort_values(by = 'EstRating', ascending = False).head(5)['ProductID'])))\n",
    "  return list(df_user[(df_user['UserID'] == user_id)].sort_values(by = 'EstRating', ascending = False).head(5)['ProductID'])\n",
    "\n",
    "# For e.g. querying for the following user\n",
    "print('A check on what has the user liked in past (based on data available in training set, if there is) and making recommendations');\n",
    "print('--'*40, '\\n')\n",
    "\n",
    "result['A11D1KHM7DVOQK'] = query_user('A11D1KHM7DVOQK')\n",
    "print('\\n')\n",
    "result['A149RNR5RH19YY'] = query_user('A149RNR5RH19YY')"
   ]
  },
  {
   "cell_type": "code",
   "execution_count": 58,
   "metadata": {
    "colab": {
     "base_uri": "https://localhost:8080/",
     "height": 527
    },
    "colab_type": "code",
    "id": "8ra4nV5wrkLG",
    "outputId": "e49b5c7f-580e-46c7-d4ea-73d0676d59fc"
   },
   "outputs": [
    {
     "data": {
      "text/plain": [
       "{'PopularityRec': {'A11D1KHM7DVOQK': ['B0000645V0',\n",
       "   'B0011YR8KO',\n",
       "   'B00JE0Q95M',\n",
       "   'B004T0B8O4',\n",
       "   'B000VQU3N2'],\n",
       "  'A149RNR5RH19YY': ['B0000645V0',\n",
       "   'B0011YR8KO',\n",
       "   'B00JE0Q95M',\n",
       "   'B004T0B8O4',\n",
       "   'B000VQU3N2']},\n",
       " 'SVD Item-based Collaborative Filtering': {'A11D1KHM7DVOQK': ['B007WTAJTO',\n",
       "   'B005CT56F8',\n",
       "   'B00829THK0',\n",
       "   'B003ZSHNGS',\n",
       "   'B00825BZUY'],\n",
       "  'A149RNR5RH19YY': ['B00829THK0',\n",
       "   'B007WTAJTO',\n",
       "   'B00829TIEK',\n",
       "   'B002R5AM7C',\n",
       "   'B003ES5ZUU']},\n",
       " 'k-NN Item-based Collaborative Filtering': {'A11D1KHM7DVOQK': ['B00008ZPNR',\n",
       "   'B00022TN9A',\n",
       "   'B0001FV35U',\n",
       "   'B0007Y79AI',\n",
       "   'B0000E1717'],\n",
       "  'A149RNR5RH19YY': ['B00003006E',\n",
       "   'B001F51G16',\n",
       "   'B000AMLXHW',\n",
       "   'B00001P4ZH',\n",
       "   'B000089GN3']}}"
      ]
     },
     "metadata": {
      "tags": []
     },
     "output_type": "display_data"
    }
   ],
   "source": [
    "compare_dict['k-NN Item-based Collaborative Filtering'] = result\n",
    "display(compare_dict)"
   ]
  },
  {
   "cell_type": "code",
   "execution_count": 59,
   "metadata": {
    "colab": {
     "base_uri": "https://localhost:8080/",
     "height": 204
    },
    "colab_type": "code",
    "id": "eRKpnP36rnoc",
    "outputId": "dca2920e-1393-47d1-8e8e-5424c56d13d2"
   },
   "outputs": [
    {
     "data": {
      "text/html": [
       "<div>\n",
       "<style scoped>\n",
       "    .dataframe tbody tr th:only-of-type {\n",
       "        vertical-align: middle;\n",
       "    }\n",
       "\n",
       "    .dataframe tbody tr th {\n",
       "        vertical-align: top;\n",
       "    }\n",
       "\n",
       "    .dataframe thead th {\n",
       "        text-align: right;\n",
       "    }\n",
       "</style>\n",
       "<table border=\"1\" class=\"dataframe\">\n",
       "  <thead>\n",
       "    <tr style=\"text-align: right;\">\n",
       "      <th></th>\n",
       "      <th>UserID</th>\n",
       "      <th>ProductID</th>\n",
       "      <th>ActualRating</th>\n",
       "      <th>EstRating</th>\n",
       "      <th>Details</th>\n",
       "      <th>Error</th>\n",
       "    </tr>\n",
       "  </thead>\n",
       "  <tbody>\n",
       "    <tr>\n",
       "      <th>11142</th>\n",
       "      <td>A2HRHF83I3NDGT</td>\n",
       "      <td>B005EOWBHC</td>\n",
       "      <td>5.00</td>\n",
       "      <td>5.00</td>\n",
       "      <td>{'actual_k': 1, 'was_impossible': False}</td>\n",
       "      <td>0.00</td>\n",
       "    </tr>\n",
       "    <tr>\n",
       "      <th>13565</th>\n",
       "      <td>A2IFGGXG3YV3Y6</td>\n",
       "      <td>B003ES5ZUU</td>\n",
       "      <td>5.00</td>\n",
       "      <td>5.00</td>\n",
       "      <td>{'actual_k': 2, 'was_impossible': False}</td>\n",
       "      <td>0.00</td>\n",
       "    </tr>\n",
       "    <tr>\n",
       "      <th>13620</th>\n",
       "      <td>A1G650TTTHEAL5</td>\n",
       "      <td>B00ENZRS76</td>\n",
       "      <td>5.00</td>\n",
       "      <td>5.00</td>\n",
       "      <td>{'actual_k': 5, 'was_impossible': False}</td>\n",
       "      <td>0.00</td>\n",
       "    </tr>\n",
       "    <tr>\n",
       "      <th>13777</th>\n",
       "      <td>A2B7BUH8834Y6M</td>\n",
       "      <td>B004CLYEFK</td>\n",
       "      <td>5.00</td>\n",
       "      <td>5.00</td>\n",
       "      <td>{'actual_k': 1, 'was_impossible': False}</td>\n",
       "      <td>0.00</td>\n",
       "    </tr>\n",
       "    <tr>\n",
       "      <th>359</th>\n",
       "      <td>A3V5F050GVZ56Q</td>\n",
       "      <td>B00F6E4HXG</td>\n",
       "      <td>5.00</td>\n",
       "      <td>5.00</td>\n",
       "      <td>{'actual_k': 2, 'was_impossible': False}</td>\n",
       "      <td>0.00</td>\n",
       "    </tr>\n",
       "  </tbody>\n",
       "</table>\n",
       "</div>"
      ],
      "text/plain": [
       "               UserID   ProductID  ActualRating  EstRating  \\\n",
       "11142  A2HRHF83I3NDGT  B005EOWBHC          5.00       5.00   \n",
       "13565  A2IFGGXG3YV3Y6  B003ES5ZUU          5.00       5.00   \n",
       "13620  A1G650TTTHEAL5  B00ENZRS76          5.00       5.00   \n",
       "13777  A2B7BUH8834Y6M  B004CLYEFK          5.00       5.00   \n",
       "359    A3V5F050GVZ56Q  B00F6E4HXG          5.00       5.00   \n",
       "\n",
       "                                        Details  Error  \n",
       "11142  {'actual_k': 1, 'was_impossible': False}   0.00  \n",
       "13565  {'actual_k': 2, 'was_impossible': False}   0.00  \n",
       "13620  {'actual_k': 5, 'was_impossible': False}   0.00  \n",
       "13777  {'actual_k': 1, 'was_impossible': False}   0.00  \n",
       "359    {'actual_k': 2, 'was_impossible': False}   0.00  "
      ]
     },
     "execution_count": 59,
     "metadata": {
      "tags": []
     },
     "output_type": "execute_result"
    }
   ],
   "source": [
    "df_user.head()"
   ]
  },
  {
   "cell_type": "code",
   "execution_count": 60,
   "metadata": {
    "colab": {},
    "colab_type": "code",
    "id": "pxzHxLykrqDy"
   },
   "outputs": [],
   "source": [
    "del (algo, ax, fig, gs_KNNBaseline, kf, param_grid_KNNBaseline, predictions, rmse, rmse_scores, train_, test_)"
   ]
  },
  {
   "cell_type": "markdown",
   "metadata": {
    "colab_type": "text",
    "id": "fWb_k-a1rtXm"
   },
   "source": [
    "**Observation 7 - Item based Collaborative Filtering (k-NN)**\n",
    "* Using k-NN inspired algos for item based collaborative filtering and 2-Fold cross validation, we get a RMSE score of ~0.9655."
   ]
  },
  {
   "cell_type": "code",
   "execution_count": 61,
   "metadata": {
    "colab": {
     "base_uri": "https://localhost:8080/",
     "height": 136
    },
    "colab_type": "code",
    "id": "6sPqFfHpsFNK",
    "outputId": "70baa9d5-c6bd-4407-fdc7-34fb5941b889"
   },
   "outputs": [
    {
     "name": "stdout",
     "output_type": "stream",
     "text": [
      "USER BASED COLLABORATIVE FILTERING USING k-NN INSPIRED ALGOS\n",
      "Grid Search across parameter grid to find best parameters using KNNBaseline algorithm\n",
      "--------------------------------------------------------------------------------\n",
      "0.981338916827777\n",
      "{'bsl_options': {'method': 'als', 'reg': 1}, 'k': 5, 'sim_options': {'name': 'pearson_baseline', 'user_based': True}, 'verbose': False}\n",
      "CPU times: user 25.1 s, sys: 617 ms, total: 25.7 s\n",
      "Wall time: 26.1 s\n"
     ]
    }
   ],
   "source": [
    "%%time\n",
    "print('USER BASED COLLABORATIVE FILTERING USING k-NN INSPIRED ALGOS')\n",
    "print('Grid Search across parameter grid to find best parameters using KNNBaseline algorithm'); print('--'*40)\n",
    "param_grid_KNNBaseline = {'bsl_options': {'method': ['als', 'sgd'], 'reg': [1, 2]}, 'k': [2, 3, 5], \n",
    "                          'sim_options': {'name': ['pearson_baseline', 'cosine'], 'user_based': [True]},\n",
    "                          'verbose': [False]}\n",
    "\n",
    "gs_KNNBaseline = GridSearchCV(KNNBaseline, param_grid_KNNBaseline, measures = ['rmse', 'mae'], cv = 3)\n",
    "gs_KNNBaseline.fit(trainset)\n",
    "print(gs_KNNBaseline.best_score['rmse'])\n",
    "print(gs_KNNBaseline.best_params['rmse'])"
   ]
  },
  {
   "cell_type": "code",
   "execution_count": 62,
   "metadata": {
    "colab": {
     "base_uri": "https://localhost:8080/",
     "height": 170
    },
    "colab_type": "code",
    "id": "lmHfOqkosGSb",
    "outputId": "6fe7e6c1-8e50-4dfc-8e29-fd0993a2912c"
   },
   "outputs": [
    {
     "name": "stdout",
     "output_type": "stream",
     "text": [
      "USER BASED COLLABORATIVE FILTERING USING k-NN INSPIRED ALGOS\n",
      "2-Fold cross validation using KNNBaseline and with best parameters identified during grid search\n",
      "--------------------------------------------------------------------------------\n",
      "RMSE: 0.9860\n",
      "RMSE: 0.9793\n",
      "--------------------------------------------------------------------------------\n",
      "RMSE OF USER BASED COLLABORATIVE FILTERING USING k-NN INSPIRED ALGORITHM AND 2-FOLD CROSS VALIDATION 0.9826\n",
      "CPU times: user 1.77 s, sys: 24 ms, total: 1.79 s\n",
      "Wall time: 2.19 s\n"
     ]
    }
   ],
   "source": [
    "%%time\n",
    "print('USER BASED COLLABORATIVE FILTERING USING k-NN INSPIRED ALGOS')\n",
    "print('2-Fold cross validation using KNNBaseline and with best parameters identified during grid search'); print('--'*40)\n",
    "kf = KFold(n_splits = 2)\n",
    "algo = KNNBaseline(**gs_KNNBaseline.best_params['rmse'])\n",
    "rmse_scores = []\n",
    "\n",
    "for train_, test_ in kf.split(data):\n",
    "    algo.fit(train_)\n",
    "    predictions = algo.test(test_)\n",
    "    rmse = round(accuracy.rmse(predictions, verbose = True), 4)\n",
    "    rmse_scores.append(rmse)\n",
    "\n",
    "    dump.dump('./dump_KNNBaseline_User', predictions, algo)\n",
    "\n",
    "print('--'*40)\n",
    "print(f'RMSE OF USER BASED COLLABORATIVE FILTERING USING k-NN INSPIRED ALGORITHM AND 2-FOLD CROSS VALIDATION {round(np.mean(rmse_scores), 4)}')"
   ]
  },
  {
   "cell_type": "code",
   "execution_count": 63,
   "metadata": {
    "colab": {
     "base_uri": "https://localhost:8080/",
     "height": 204
    },
    "colab_type": "code",
    "id": "X4kRfMfvsKWT",
    "outputId": "173879b4-5574-484b-c8fc-e8b0dfef1e4a"
   },
   "outputs": [
    {
     "data": {
      "text/html": [
       "<div>\n",
       "<style scoped>\n",
       "    .dataframe tbody tr th:only-of-type {\n",
       "        vertical-align: middle;\n",
       "    }\n",
       "\n",
       "    .dataframe tbody tr th {\n",
       "        vertical-align: top;\n",
       "    }\n",
       "\n",
       "    .dataframe thead th {\n",
       "        text-align: right;\n",
       "    }\n",
       "</style>\n",
       "<table border=\"1\" class=\"dataframe\">\n",
       "  <thead>\n",
       "    <tr style=\"text-align: right;\">\n",
       "      <th></th>\n",
       "      <th>UserID</th>\n",
       "      <th>ProductID</th>\n",
       "      <th>ActualRating</th>\n",
       "      <th>EstRating</th>\n",
       "      <th>Details</th>\n",
       "      <th>Error</th>\n",
       "    </tr>\n",
       "  </thead>\n",
       "  <tbody>\n",
       "    <tr>\n",
       "      <th>4751</th>\n",
       "      <td>A3OXHLG6DIBRW8</td>\n",
       "      <td>B000TKHBDK</td>\n",
       "      <td>5.00</td>\n",
       "      <td>5.00</td>\n",
       "      <td>{'actual_k': 2, 'was_impossible': False}</td>\n",
       "      <td>0.00</td>\n",
       "    </tr>\n",
       "    <tr>\n",
       "      <th>8928</th>\n",
       "      <td>A18U49406IPPIJ</td>\n",
       "      <td>B009QUDLC4</td>\n",
       "      <td>5.00</td>\n",
       "      <td>5.00</td>\n",
       "      <td>{'actual_k': 1, 'was_impossible': False}</td>\n",
       "      <td>0.00</td>\n",
       "    </tr>\n",
       "    <tr>\n",
       "      <th>4367</th>\n",
       "      <td>A31N0XY2UTB25C</td>\n",
       "      <td>B00BOHNYTW</td>\n",
       "      <td>5.00</td>\n",
       "      <td>5.00</td>\n",
       "      <td>{'actual_k': 3, 'was_impossible': False}</td>\n",
       "      <td>0.00</td>\n",
       "    </tr>\n",
       "    <tr>\n",
       "      <th>6663</th>\n",
       "      <td>A2KOV8XWZOZ0FQ</td>\n",
       "      <td>B001TH7T2U</td>\n",
       "      <td>5.00</td>\n",
       "      <td>5.00</td>\n",
       "      <td>{'actual_k': 1, 'was_impossible': False}</td>\n",
       "      <td>0.00</td>\n",
       "    </tr>\n",
       "    <tr>\n",
       "      <th>20132</th>\n",
       "      <td>AEJAGHLC675A7</td>\n",
       "      <td>B001TH7GUU</td>\n",
       "      <td>5.00</td>\n",
       "      <td>5.00</td>\n",
       "      <td>{'actual_k': 3, 'was_impossible': False}</td>\n",
       "      <td>0.00</td>\n",
       "    </tr>\n",
       "  </tbody>\n",
       "</table>\n",
       "</div>"
      ],
      "text/plain": [
       "               UserID   ProductID  ActualRating  EstRating  \\\n",
       "4751   A3OXHLG6DIBRW8  B000TKHBDK          5.00       5.00   \n",
       "8928   A18U49406IPPIJ  B009QUDLC4          5.00       5.00   \n",
       "4367   A31N0XY2UTB25C  B00BOHNYTW          5.00       5.00   \n",
       "6663   A2KOV8XWZOZ0FQ  B001TH7T2U          5.00       5.00   \n",
       "20132   AEJAGHLC675A7  B001TH7GUU          5.00       5.00   \n",
       "\n",
       "                                        Details  Error  \n",
       "4751   {'actual_k': 2, 'was_impossible': False}   0.00  \n",
       "8928   {'actual_k': 1, 'was_impossible': False}   0.00  \n",
       "4367   {'actual_k': 3, 'was_impossible': False}   0.00  \n",
       "6663   {'actual_k': 1, 'was_impossible': False}   0.00  \n",
       "20132  {'actual_k': 3, 'was_impossible': False}   0.00  "
      ]
     },
     "metadata": {
      "tags": []
     },
     "output_type": "display_data"
    }
   ],
   "source": [
    "predictions, algo = dump.load('./dump_KNNBaseline_User')\n",
    "df_user = pd.DataFrame(predictions, columns = ['UserID', 'ProductID', 'ActualRating', 'EstRating', 'Details'])\n",
    "df_user['Error'] = abs(df_user['EstRating'] - df_user['ActualRating'])\n",
    "df_user.sort_values('Error', inplace = True, ascending = True)\n",
    "\n",
    "display(df_user.head())"
   ]
  },
  {
   "cell_type": "code",
   "execution_count": 64,
   "metadata": {
    "colab": {
     "base_uri": "https://localhost:8080/",
     "height": 204
    },
    "colab_type": "code",
    "id": "gB92RCWksSM8",
    "outputId": "dea1d3dd-665a-49bd-b66e-c735eb13c3b0"
   },
   "outputs": [
    {
     "name": "stdout",
     "output_type": "stream",
     "text": [
      "A check on what has the user liked in past (based on data available in training set, if there is) and making recommendations\n",
      "-------------------------------------------------------------------------------- \n",
      "\n",
      "User \"A11D1KHM7DVOQK\" has already rated products (from data in training set): 76\n",
      "Top 5 products from what's already being rated: ['B00005V54U', 'B0001LD00A', 'B00061IYFQ', 'B0002I5RHG', 'B0009FUFPG']\n",
      "Top 5 recommendations for the user are: ['B00004T8R2', 'B0009H9PZU', 'B00009L1RI', 'B00008VF63', 'B000069106']\n",
      "\n",
      "\n",
      "User \"A149RNR5RH19YY\" has already rated products (from data in training set): 95\n",
      "Top 5 products from what's already being rated: ['B000BTL0OA', 'B00003006E', 'B001OOZ1X2', 'B000062TTF', 'B00385XTWA']\n",
      "Top 5 recommendations for the user are: ['B000VE7S9Q', 'B000089GN3', 'B00008I9K8', 'B00006HYKM', 'B000MK4GGM']\n"
     ]
    }
   ],
   "source": [
    "print('A check on what has the user liked in past (based on data available in training set, if there is) and making recommendations');\n",
    "print('--'*40, '\\n')\n",
    "result = {}\n",
    "\n",
    "result['A11D1KHM7DVOQK'] = query_user('A11D1KHM7DVOQK')\n",
    "print('\\n')\n",
    "result['A149RNR5RH19YY'] = query_user('A149RNR5RH19YY')"
   ]
  },
  {
   "cell_type": "code",
   "execution_count": 65,
   "metadata": {
    "colab": {
     "base_uri": "https://localhost:8080/",
     "height": 697
    },
    "colab_type": "code",
    "id": "sOyEkfoOsUyS",
    "outputId": "047306a5-6ad9-4445-c99a-222e2f4ffcef"
   },
   "outputs": [
    {
     "data": {
      "text/plain": [
       "{'PopularityRec': {'A11D1KHM7DVOQK': ['B0000645V0',\n",
       "   'B0011YR8KO',\n",
       "   'B00JE0Q95M',\n",
       "   'B004T0B8O4',\n",
       "   'B000VQU3N2'],\n",
       "  'A149RNR5RH19YY': ['B0000645V0',\n",
       "   'B0011YR8KO',\n",
       "   'B00JE0Q95M',\n",
       "   'B004T0B8O4',\n",
       "   'B000VQU3N2']},\n",
       " 'SVD Item-based Collaborative Filtering': {'A11D1KHM7DVOQK': ['B007WTAJTO',\n",
       "   'B005CT56F8',\n",
       "   'B00829THK0',\n",
       "   'B003ZSHNGS',\n",
       "   'B00825BZUY'],\n",
       "  'A149RNR5RH19YY': ['B00829THK0',\n",
       "   'B007WTAJTO',\n",
       "   'B00829TIEK',\n",
       "   'B002R5AM7C',\n",
       "   'B003ES5ZUU']},\n",
       " 'k-NN Item-based Collaborative Filtering': {'A11D1KHM7DVOQK': ['B00008ZPNR',\n",
       "   'B00022TN9A',\n",
       "   'B0001FV35U',\n",
       "   'B0007Y79AI',\n",
       "   'B0000E1717'],\n",
       "  'A149RNR5RH19YY': ['B00003006E',\n",
       "   'B001F51G16',\n",
       "   'B000AMLXHW',\n",
       "   'B00001P4ZH',\n",
       "   'B000089GN3']},\n",
       " 'k-NN User-based Collaborative Filtering': {'A11D1KHM7DVOQK': ['B00004T8R2',\n",
       "   'B0009H9PZU',\n",
       "   'B00009L1RI',\n",
       "   'B00008VF63',\n",
       "   'B000069106'],\n",
       "  'A149RNR5RH19YY': ['B000VE7S9Q',\n",
       "   'B000089GN3',\n",
       "   'B00008I9K8',\n",
       "   'B00006HYKM',\n",
       "   'B000MK4GGM']}}"
      ]
     },
     "metadata": {
      "tags": []
     },
     "output_type": "display_data"
    }
   ],
   "source": [
    "compare_dict['k-NN User-based Collaborative Filtering'] = result\n",
    "display(compare_dict)"
   ]
  },
  {
   "cell_type": "markdown",
   "metadata": {
    "colab_type": "text",
    "id": "qPLkIYPmsY3_"
   },
   "source": [
    "**Observation 8 - User based Collaborative Filtering (k-NN)**\n",
    "* Using k-NN inspired algos for user based collaborative filtering and 2-Fold cross validation, we get a RMSE score of ~0.9826."
   ]
  },
  {
   "cell_type": "markdown",
   "metadata": {
    "colab_type": "text",
    "id": "0mNZ9RIqsfOD"
   },
   "source": [
    "#### **Conclusion**\n",
    "* Non-personalized based recommendation system (such as popularity) is generated by averaging the recommendations for all the users. Here we recommended top 5 products to the users. Also saw how we can make use of count to suggest popular products to the users and hybrid popularity based recommender based on a combination of mean and count. However in popularity based recommendation, all users receive same recommendations. RMSE of popularity recommendation method based on mean of ratings was 3.0894.\n",
    "\n",
    "* Collaborative-based recommendations are personalized since the rating \"prediction\" differs depending on the target user and it is based on\n",
    "\n",
    "* User-to-user: ratings for a given product expressed by users that are similar to the active user.\n",
    "* Item-to-item: weighted average of the ratings of the active users for the similar items.\n",
    "* Collaborative based filtering method requires a minimal knowledge engineering efforts when compared to methods such as content-based recsys. This method is based on user history, but what if the user is new (where there is no user history)? It's one of the limitations of the method known as cold-start problem.\n",
    "\n",
    "* Items with lots of history gets recommended a lot, while those without never make it into the recommendation engine.\n",
    "\n",
    "* Additionally, collaborative based filtering methods face scalability issues particularly in our case where the number of users (4,201,696) and items (476,002) were high (sparse data), especially when recommendations need to be generated in real-time online. To overcome this, we filtered users who have rated at least 50 products, this left about 1,540 number of users and 48,190 products in the dataframe and these were further reduced to select only those users with > 100 ratings to avoid memory issues while using k-NN inspired algorithms.\n",
    "\n",
    "Since our goal was to build a recsys to recommend products to customers based on their previous ratings for other products, we built an item-based collaborative filtering recommendation system. Used two model-based approaches to do that: SVD and k-NN inspired algos."
   ]
  }
 ],
 "metadata": {
  "colab": {
   "collapsed_sections": [],
   "name": "Recommend System Project ",
   "provenance": []
  },
  "kernelspec": {
   "display_name": "Python 3",
   "language": "python",
   "name": "python3"
  },
  "language_info": {
   "codemirror_mode": {
    "name": "ipython",
    "version": 3
   },
   "file_extension": ".py",
   "mimetype": "text/x-python",
   "name": "python",
   "nbconvert_exporter": "python",
   "pygments_lexer": "ipython3",
   "version": "3.7.6"
  }
 },
 "nbformat": 4,
 "nbformat_minor": 1
}
